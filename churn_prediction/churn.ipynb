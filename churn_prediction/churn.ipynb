{
  "cells": [
    {
      "cell_type": "markdown",
      "metadata": {
        "id": "dyPfToN5c0Ml"
      },
      "source": [
        "<h3 style='color:blue' align='center'>Customer Churn Prediction Using Artificial Neural Network (ANN)</h3>"
      ]
    },
    {
      "cell_type": "markdown",
      "metadata": {
        "id": "SI_i_Sdyc0My"
      },
      "source": [
        "building a deep learning model to predict the churn and use precision,recall and f1-score to measure performance of our model"
      ]
    },
    {
      "cell_type": "code",
      "execution_count": 1,
      "metadata": {
        "id": "hmX5vGG3c0M1"
      },
      "outputs": [],
      "source": [
        "import pandas as pd\n",
        "from matplotlib import pyplot as plt\n",
        "import numpy as np\n",
        "%matplotlib inline"
      ]
    },
    {
      "cell_type": "markdown",
      "metadata": {
        "id": "5T2BTsRJc0M7"
      },
      "source": [
        "**Load the data**"
      ]
    },
    {
      "cell_type": "code",
      "execution_count": 23,
      "metadata": {
        "scrolled": true,
        "colab": {
          "base_uri": "https://localhost:8080/",
          "height": 226
        },
        "id": "MWOdjbdNc0M9",
        "outputId": "6307c635-8d4a-4302-b634-b96ac0d8c0e1"
      },
      "outputs": [
        {
          "output_type": "execute_result",
          "data": {
            "text/plain": [
              "      CustomerID  Churn  Tenure PreferredLoginDevice  CityTier  \\\n",
              "5283       55284      0     9.0         Mobile Phone         1   \n",
              "5242       55243      0     1.0                Phone         1   \n",
              "4749       54750      1     1.0                Phone         1   \n",
              "5411       55412      0     4.0         Mobile Phone         3   \n",
              "877        50878      0     8.0             Computer         1   \n",
              "\n",
              "      WarehouseToHome PreferredPaymentMode  Gender  HourSpendOnApp  \\\n",
              "5283             17.0          Credit Card  Female             3.0   \n",
              "5242             27.0           Debit Card    Male             4.0   \n",
              "4749              7.0           Debit Card  Female             3.0   \n",
              "5411             22.0             E wallet    Male             4.0   \n",
              "877              24.0           Debit Card    Male             2.0   \n",
              "\n",
              "      NumberOfDeviceRegistered    PreferedOrderCat  SatisfactionScore  \\\n",
              "5283                         4  Laptop & Accessory                  3   \n",
              "5242                         4  Laptop & Accessory                  3   \n",
              "4749                         5        Mobile Phone                  5   \n",
              "5411                         5             Fashion                  5   \n",
              "877                          3             Fashion                  2   \n",
              "\n",
              "     MaritalStatus  NumberOfAddress  Complain  OrderAmountHikeFromlastYear  \\\n",
              "5283        Single                5         1                         17.0   \n",
              "5242        Single                2         0                         15.0   \n",
              "4749       Married                3         1                         12.0   \n",
              "5411       Married                4         0                         12.0   \n",
              "877         Single                3         0                         11.0   \n",
              "\n",
              "      CouponUsed  OrderCount  DaySinceLastOrder  CashbackAmount  \n",
              "5283         1.0         2.0                5.0             186  \n",
              "5242         2.0         2.0                3.0             148  \n",
              "4749         1.0         2.0                1.0             148  \n",
              "5411         2.0         2.0                8.0             196  \n",
              "877          0.0         2.0                2.0             194  "
            ],
            "text/html": [
              "\n",
              "  <div id=\"df-e440f383-f6c8-4992-a406-782fe1732961\" class=\"colab-df-container\">\n",
              "    <div>\n",
              "<style scoped>\n",
              "    .dataframe tbody tr th:only-of-type {\n",
              "        vertical-align: middle;\n",
              "    }\n",
              "\n",
              "    .dataframe tbody tr th {\n",
              "        vertical-align: top;\n",
              "    }\n",
              "\n",
              "    .dataframe thead th {\n",
              "        text-align: right;\n",
              "    }\n",
              "</style>\n",
              "<table border=\"1\" class=\"dataframe\">\n",
              "  <thead>\n",
              "    <tr style=\"text-align: right;\">\n",
              "      <th></th>\n",
              "      <th>CustomerID</th>\n",
              "      <th>Churn</th>\n",
              "      <th>Tenure</th>\n",
              "      <th>PreferredLoginDevice</th>\n",
              "      <th>CityTier</th>\n",
              "      <th>WarehouseToHome</th>\n",
              "      <th>PreferredPaymentMode</th>\n",
              "      <th>Gender</th>\n",
              "      <th>HourSpendOnApp</th>\n",
              "      <th>NumberOfDeviceRegistered</th>\n",
              "      <th>PreferedOrderCat</th>\n",
              "      <th>SatisfactionScore</th>\n",
              "      <th>MaritalStatus</th>\n",
              "      <th>NumberOfAddress</th>\n",
              "      <th>Complain</th>\n",
              "      <th>OrderAmountHikeFromlastYear</th>\n",
              "      <th>CouponUsed</th>\n",
              "      <th>OrderCount</th>\n",
              "      <th>DaySinceLastOrder</th>\n",
              "      <th>CashbackAmount</th>\n",
              "    </tr>\n",
              "  </thead>\n",
              "  <tbody>\n",
              "    <tr>\n",
              "      <th>5283</th>\n",
              "      <td>55284</td>\n",
              "      <td>0</td>\n",
              "      <td>9.0</td>\n",
              "      <td>Mobile Phone</td>\n",
              "      <td>1</td>\n",
              "      <td>17.0</td>\n",
              "      <td>Credit Card</td>\n",
              "      <td>Female</td>\n",
              "      <td>3.0</td>\n",
              "      <td>4</td>\n",
              "      <td>Laptop &amp; Accessory</td>\n",
              "      <td>3</td>\n",
              "      <td>Single</td>\n",
              "      <td>5</td>\n",
              "      <td>1</td>\n",
              "      <td>17.0</td>\n",
              "      <td>1.0</td>\n",
              "      <td>2.0</td>\n",
              "      <td>5.0</td>\n",
              "      <td>186</td>\n",
              "    </tr>\n",
              "    <tr>\n",
              "      <th>5242</th>\n",
              "      <td>55243</td>\n",
              "      <td>0</td>\n",
              "      <td>1.0</td>\n",
              "      <td>Phone</td>\n",
              "      <td>1</td>\n",
              "      <td>27.0</td>\n",
              "      <td>Debit Card</td>\n",
              "      <td>Male</td>\n",
              "      <td>4.0</td>\n",
              "      <td>4</td>\n",
              "      <td>Laptop &amp; Accessory</td>\n",
              "      <td>3</td>\n",
              "      <td>Single</td>\n",
              "      <td>2</td>\n",
              "      <td>0</td>\n",
              "      <td>15.0</td>\n",
              "      <td>2.0</td>\n",
              "      <td>2.0</td>\n",
              "      <td>3.0</td>\n",
              "      <td>148</td>\n",
              "    </tr>\n",
              "    <tr>\n",
              "      <th>4749</th>\n",
              "      <td>54750</td>\n",
              "      <td>1</td>\n",
              "      <td>1.0</td>\n",
              "      <td>Phone</td>\n",
              "      <td>1</td>\n",
              "      <td>7.0</td>\n",
              "      <td>Debit Card</td>\n",
              "      <td>Female</td>\n",
              "      <td>3.0</td>\n",
              "      <td>5</td>\n",
              "      <td>Mobile Phone</td>\n",
              "      <td>5</td>\n",
              "      <td>Married</td>\n",
              "      <td>3</td>\n",
              "      <td>1</td>\n",
              "      <td>12.0</td>\n",
              "      <td>1.0</td>\n",
              "      <td>2.0</td>\n",
              "      <td>1.0</td>\n",
              "      <td>148</td>\n",
              "    </tr>\n",
              "    <tr>\n",
              "      <th>5411</th>\n",
              "      <td>55412</td>\n",
              "      <td>0</td>\n",
              "      <td>4.0</td>\n",
              "      <td>Mobile Phone</td>\n",
              "      <td>3</td>\n",
              "      <td>22.0</td>\n",
              "      <td>E wallet</td>\n",
              "      <td>Male</td>\n",
              "      <td>4.0</td>\n",
              "      <td>5</td>\n",
              "      <td>Fashion</td>\n",
              "      <td>5</td>\n",
              "      <td>Married</td>\n",
              "      <td>4</td>\n",
              "      <td>0</td>\n",
              "      <td>12.0</td>\n",
              "      <td>2.0</td>\n",
              "      <td>2.0</td>\n",
              "      <td>8.0</td>\n",
              "      <td>196</td>\n",
              "    </tr>\n",
              "    <tr>\n",
              "      <th>877</th>\n",
              "      <td>50878</td>\n",
              "      <td>0</td>\n",
              "      <td>8.0</td>\n",
              "      <td>Computer</td>\n",
              "      <td>1</td>\n",
              "      <td>24.0</td>\n",
              "      <td>Debit Card</td>\n",
              "      <td>Male</td>\n",
              "      <td>2.0</td>\n",
              "      <td>3</td>\n",
              "      <td>Fashion</td>\n",
              "      <td>2</td>\n",
              "      <td>Single</td>\n",
              "      <td>3</td>\n",
              "      <td>0</td>\n",
              "      <td>11.0</td>\n",
              "      <td>0.0</td>\n",
              "      <td>2.0</td>\n",
              "      <td>2.0</td>\n",
              "      <td>194</td>\n",
              "    </tr>\n",
              "  </tbody>\n",
              "</table>\n",
              "</div>\n",
              "    <div class=\"colab-df-buttons\">\n",
              "\n",
              "  <div class=\"colab-df-container\">\n",
              "    <button class=\"colab-df-convert\" onclick=\"convertToInteractive('df-e440f383-f6c8-4992-a406-782fe1732961')\"\n",
              "            title=\"Convert this dataframe to an interactive table.\"\n",
              "            style=\"display:none;\">\n",
              "\n",
              "  <svg xmlns=\"http://www.w3.org/2000/svg\" height=\"24px\" viewBox=\"0 -960 960 960\">\n",
              "    <path d=\"M120-120v-720h720v720H120Zm60-500h600v-160H180v160Zm220 220h160v-160H400v160Zm0 220h160v-160H400v160ZM180-400h160v-160H180v160Zm440 0h160v-160H620v160ZM180-180h160v-160H180v160Zm440 0h160v-160H620v160Z\"/>\n",
              "  </svg>\n",
              "    </button>\n",
              "\n",
              "  <style>\n",
              "    .colab-df-container {\n",
              "      display:flex;\n",
              "      gap: 12px;\n",
              "    }\n",
              "\n",
              "    .colab-df-convert {\n",
              "      background-color: #E8F0FE;\n",
              "      border: none;\n",
              "      border-radius: 50%;\n",
              "      cursor: pointer;\n",
              "      display: none;\n",
              "      fill: #1967D2;\n",
              "      height: 32px;\n",
              "      padding: 0 0 0 0;\n",
              "      width: 32px;\n",
              "    }\n",
              "\n",
              "    .colab-df-convert:hover {\n",
              "      background-color: #E2EBFA;\n",
              "      box-shadow: 0px 1px 2px rgba(60, 64, 67, 0.3), 0px 1px 3px 1px rgba(60, 64, 67, 0.15);\n",
              "      fill: #174EA6;\n",
              "    }\n",
              "\n",
              "    .colab-df-buttons div {\n",
              "      margin-bottom: 4px;\n",
              "    }\n",
              "\n",
              "    [theme=dark] .colab-df-convert {\n",
              "      background-color: #3B4455;\n",
              "      fill: #D2E3FC;\n",
              "    }\n",
              "\n",
              "    [theme=dark] .colab-df-convert:hover {\n",
              "      background-color: #434B5C;\n",
              "      box-shadow: 0px 1px 3px 1px rgba(0, 0, 0, 0.15);\n",
              "      filter: drop-shadow(0px 1px 2px rgba(0, 0, 0, 0.3));\n",
              "      fill: #FFFFFF;\n",
              "    }\n",
              "  </style>\n",
              "\n",
              "    <script>\n",
              "      const buttonEl =\n",
              "        document.querySelector('#df-e440f383-f6c8-4992-a406-782fe1732961 button.colab-df-convert');\n",
              "      buttonEl.style.display =\n",
              "        google.colab.kernel.accessAllowed ? 'block' : 'none';\n",
              "\n",
              "      async function convertToInteractive(key) {\n",
              "        const element = document.querySelector('#df-e440f383-f6c8-4992-a406-782fe1732961');\n",
              "        const dataTable =\n",
              "          await google.colab.kernel.invokeFunction('convertToInteractive',\n",
              "                                                    [key], {});\n",
              "        if (!dataTable) return;\n",
              "\n",
              "        const docLinkHtml = 'Like what you see? Visit the ' +\n",
              "          '<a target=\"_blank\" href=https://colab.research.google.com/notebooks/data_table.ipynb>data table notebook</a>'\n",
              "          + ' to learn more about interactive tables.';\n",
              "        element.innerHTML = '';\n",
              "        dataTable['output_type'] = 'display_data';\n",
              "        await google.colab.output.renderOutput(dataTable, element);\n",
              "        const docLink = document.createElement('div');\n",
              "        docLink.innerHTML = docLinkHtml;\n",
              "        element.appendChild(docLink);\n",
              "      }\n",
              "    </script>\n",
              "  </div>\n",
              "\n",
              "\n",
              "<div id=\"df-e659e369-4c23-4b8c-9860-11834f8f6e2a\">\n",
              "  <button class=\"colab-df-quickchart\" onclick=\"quickchart('df-e659e369-4c23-4b8c-9860-11834f8f6e2a')\"\n",
              "            title=\"Suggest charts\"\n",
              "            style=\"display:none;\">\n",
              "\n",
              "<svg xmlns=\"http://www.w3.org/2000/svg\" height=\"24px\"viewBox=\"0 0 24 24\"\n",
              "     width=\"24px\">\n",
              "    <g>\n",
              "        <path d=\"M19 3H5c-1.1 0-2 .9-2 2v14c0 1.1.9 2 2 2h14c1.1 0 2-.9 2-2V5c0-1.1-.9-2-2-2zM9 17H7v-7h2v7zm4 0h-2V7h2v10zm4 0h-2v-4h2v4z\"/>\n",
              "    </g>\n",
              "</svg>\n",
              "  </button>\n",
              "\n",
              "<style>\n",
              "  .colab-df-quickchart {\n",
              "      --bg-color: #E8F0FE;\n",
              "      --fill-color: #1967D2;\n",
              "      --hover-bg-color: #E2EBFA;\n",
              "      --hover-fill-color: #174EA6;\n",
              "      --disabled-fill-color: #AAA;\n",
              "      --disabled-bg-color: #DDD;\n",
              "  }\n",
              "\n",
              "  [theme=dark] .colab-df-quickchart {\n",
              "      --bg-color: #3B4455;\n",
              "      --fill-color: #D2E3FC;\n",
              "      --hover-bg-color: #434B5C;\n",
              "      --hover-fill-color: #FFFFFF;\n",
              "      --disabled-bg-color: #3B4455;\n",
              "      --disabled-fill-color: #666;\n",
              "  }\n",
              "\n",
              "  .colab-df-quickchart {\n",
              "    background-color: var(--bg-color);\n",
              "    border: none;\n",
              "    border-radius: 50%;\n",
              "    cursor: pointer;\n",
              "    display: none;\n",
              "    fill: var(--fill-color);\n",
              "    height: 32px;\n",
              "    padding: 0;\n",
              "    width: 32px;\n",
              "  }\n",
              "\n",
              "  .colab-df-quickchart:hover {\n",
              "    background-color: var(--hover-bg-color);\n",
              "    box-shadow: 0 1px 2px rgba(60, 64, 67, 0.3), 0 1px 3px 1px rgba(60, 64, 67, 0.15);\n",
              "    fill: var(--button-hover-fill-color);\n",
              "  }\n",
              "\n",
              "  .colab-df-quickchart-complete:disabled,\n",
              "  .colab-df-quickchart-complete:disabled:hover {\n",
              "    background-color: var(--disabled-bg-color);\n",
              "    fill: var(--disabled-fill-color);\n",
              "    box-shadow: none;\n",
              "  }\n",
              "\n",
              "  .colab-df-spinner {\n",
              "    border: 2px solid var(--fill-color);\n",
              "    border-color: transparent;\n",
              "    border-bottom-color: var(--fill-color);\n",
              "    animation:\n",
              "      spin 1s steps(1) infinite;\n",
              "  }\n",
              "\n",
              "  @keyframes spin {\n",
              "    0% {\n",
              "      border-color: transparent;\n",
              "      border-bottom-color: var(--fill-color);\n",
              "      border-left-color: var(--fill-color);\n",
              "    }\n",
              "    20% {\n",
              "      border-color: transparent;\n",
              "      border-left-color: var(--fill-color);\n",
              "      border-top-color: var(--fill-color);\n",
              "    }\n",
              "    30% {\n",
              "      border-color: transparent;\n",
              "      border-left-color: var(--fill-color);\n",
              "      border-top-color: var(--fill-color);\n",
              "      border-right-color: var(--fill-color);\n",
              "    }\n",
              "    40% {\n",
              "      border-color: transparent;\n",
              "      border-right-color: var(--fill-color);\n",
              "      border-top-color: var(--fill-color);\n",
              "    }\n",
              "    60% {\n",
              "      border-color: transparent;\n",
              "      border-right-color: var(--fill-color);\n",
              "    }\n",
              "    80% {\n",
              "      border-color: transparent;\n",
              "      border-right-color: var(--fill-color);\n",
              "      border-bottom-color: var(--fill-color);\n",
              "    }\n",
              "    90% {\n",
              "      border-color: transparent;\n",
              "      border-bottom-color: var(--fill-color);\n",
              "    }\n",
              "  }\n",
              "</style>\n",
              "\n",
              "  <script>\n",
              "    async function quickchart(key) {\n",
              "      const quickchartButtonEl =\n",
              "        document.querySelector('#' + key + ' button');\n",
              "      quickchartButtonEl.disabled = true;  // To prevent multiple clicks.\n",
              "      quickchartButtonEl.classList.add('colab-df-spinner');\n",
              "      try {\n",
              "        const charts = await google.colab.kernel.invokeFunction(\n",
              "            'suggestCharts', [key], {});\n",
              "      } catch (error) {\n",
              "        console.error('Error during call to suggestCharts:', error);\n",
              "      }\n",
              "      quickchartButtonEl.classList.remove('colab-df-spinner');\n",
              "      quickchartButtonEl.classList.add('colab-df-quickchart-complete');\n",
              "    }\n",
              "    (() => {\n",
              "      let quickchartButtonEl =\n",
              "        document.querySelector('#df-e659e369-4c23-4b8c-9860-11834f8f6e2a button');\n",
              "      quickchartButtonEl.style.display =\n",
              "        google.colab.kernel.accessAllowed ? 'block' : 'none';\n",
              "    })();\n",
              "  </script>\n",
              "</div>\n",
              "\n",
              "    </div>\n",
              "  </div>\n"
            ],
            "application/vnd.google.colaboratory.intrinsic+json": {
              "type": "dataframe",
              "summary": "{\n  \"name\": \"df\",\n  \"rows\": 5,\n  \"fields\": [\n    {\n      \"column\": \"CustomerID\",\n      \"properties\": {\n        \"dtype\": \"number\",\n        \"std\": 1936,\n        \"min\": 50878,\n        \"max\": 55412,\n        \"num_unique_values\": 5,\n        \"samples\": [\n          55243,\n          50878,\n          54750\n        ],\n        \"semantic_type\": \"\",\n        \"description\": \"\"\n      }\n    },\n    {\n      \"column\": \"Churn\",\n      \"properties\": {\n        \"dtype\": \"number\",\n        \"std\": 0,\n        \"min\": 0,\n        \"max\": 1,\n        \"num_unique_values\": 2,\n        \"samples\": [\n          1,\n          0\n        ],\n        \"semantic_type\": \"\",\n        \"description\": \"\"\n      }\n    },\n    {\n      \"column\": \"Tenure\",\n      \"properties\": {\n        \"dtype\": \"number\",\n        \"std\": 3.7815340802378077,\n        \"min\": 1.0,\n        \"max\": 9.0,\n        \"num_unique_values\": 4,\n        \"samples\": [\n          1.0,\n          8.0\n        ],\n        \"semantic_type\": \"\",\n        \"description\": \"\"\n      }\n    },\n    {\n      \"column\": \"PreferredLoginDevice\",\n      \"properties\": {\n        \"dtype\": \"string\",\n        \"num_unique_values\": 3,\n        \"samples\": [\n          \"Mobile Phone\",\n          \"Phone\"\n        ],\n        \"semantic_type\": \"\",\n        \"description\": \"\"\n      }\n    },\n    {\n      \"column\": \"CityTier\",\n      \"properties\": {\n        \"dtype\": \"number\",\n        \"std\": 0,\n        \"min\": 1,\n        \"max\": 3,\n        \"num_unique_values\": 2,\n        \"samples\": [\n          3,\n          1\n        ],\n        \"semantic_type\": \"\",\n        \"description\": \"\"\n      }\n    },\n    {\n      \"column\": \"WarehouseToHome\",\n      \"properties\": {\n        \"dtype\": \"number\",\n        \"std\": 7.829431652425353,\n        \"min\": 7.0,\n        \"max\": 27.0,\n        \"num_unique_values\": 5,\n        \"samples\": [\n          27.0,\n          24.0\n        ],\n        \"semantic_type\": \"\",\n        \"description\": \"\"\n      }\n    },\n    {\n      \"column\": \"PreferredPaymentMode\",\n      \"properties\": {\n        \"dtype\": \"string\",\n        \"num_unique_values\": 3,\n        \"samples\": [\n          \"Credit Card\",\n          \"Debit Card\"\n        ],\n        \"semantic_type\": \"\",\n        \"description\": \"\"\n      }\n    },\n    {\n      \"column\": \"Gender\",\n      \"properties\": {\n        \"dtype\": \"category\",\n        \"num_unique_values\": 2,\n        \"samples\": [\n          \"Male\",\n          \"Female\"\n        ],\n        \"semantic_type\": \"\",\n        \"description\": \"\"\n      }\n    },\n    {\n      \"column\": \"HourSpendOnApp\",\n      \"properties\": {\n        \"dtype\": \"number\",\n        \"std\": 0.8366600265340756,\n        \"min\": 2.0,\n        \"max\": 4.0,\n        \"num_unique_values\": 3,\n        \"samples\": [\n          3.0,\n          4.0\n        ],\n        \"semantic_type\": \"\",\n        \"description\": \"\"\n      }\n    },\n    {\n      \"column\": \"NumberOfDeviceRegistered\",\n      \"properties\": {\n        \"dtype\": \"number\",\n        \"std\": 0,\n        \"min\": 3,\n        \"max\": 5,\n        \"num_unique_values\": 3,\n        \"samples\": [\n          4,\n          5\n        ],\n        \"semantic_type\": \"\",\n        \"description\": \"\"\n      }\n    },\n    {\n      \"column\": \"PreferedOrderCat\",\n      \"properties\": {\n        \"dtype\": \"string\",\n        \"num_unique_values\": 3,\n        \"samples\": [\n          \"Laptop & Accessory\",\n          \"Mobile Phone\"\n        ],\n        \"semantic_type\": \"\",\n        \"description\": \"\"\n      }\n    },\n    {\n      \"column\": \"SatisfactionScore\",\n      \"properties\": {\n        \"dtype\": \"number\",\n        \"std\": 1,\n        \"min\": 2,\n        \"max\": 5,\n        \"num_unique_values\": 3,\n        \"samples\": [\n          3,\n          5\n        ],\n        \"semantic_type\": \"\",\n        \"description\": \"\"\n      }\n    },\n    {\n      \"column\": \"MaritalStatus\",\n      \"properties\": {\n        \"dtype\": \"category\",\n        \"num_unique_values\": 2,\n        \"samples\": [\n          \"Married\",\n          \"Single\"\n        ],\n        \"semantic_type\": \"\",\n        \"description\": \"\"\n      }\n    },\n    {\n      \"column\": \"NumberOfAddress\",\n      \"properties\": {\n        \"dtype\": \"number\",\n        \"std\": 1,\n        \"min\": 2,\n        \"max\": 5,\n        \"num_unique_values\": 4,\n        \"samples\": [\n          2,\n          4\n        ],\n        \"semantic_type\": \"\",\n        \"description\": \"\"\n      }\n    },\n    {\n      \"column\": \"Complain\",\n      \"properties\": {\n        \"dtype\": \"number\",\n        \"std\": 0,\n        \"min\": 0,\n        \"max\": 1,\n        \"num_unique_values\": 2,\n        \"samples\": [\n          0,\n          1\n        ],\n        \"semantic_type\": \"\",\n        \"description\": \"\"\n      }\n    },\n    {\n      \"column\": \"OrderAmountHikeFromlastYear\",\n      \"properties\": {\n        \"dtype\": \"number\",\n        \"std\": 2.5099800796022267,\n        \"min\": 11.0,\n        \"max\": 17.0,\n        \"num_unique_values\": 4,\n        \"samples\": [\n          15.0,\n          11.0\n        ],\n        \"semantic_type\": \"\",\n        \"description\": \"\"\n      }\n    },\n    {\n      \"column\": \"CouponUsed\",\n      \"properties\": {\n        \"dtype\": \"number\",\n        \"std\": 0.8366600265340756,\n        \"min\": 0.0,\n        \"max\": 2.0,\n        \"num_unique_values\": 3,\n        \"samples\": [\n          1.0,\n          2.0\n        ],\n        \"semantic_type\": \"\",\n        \"description\": \"\"\n      }\n    },\n    {\n      \"column\": \"OrderCount\",\n      \"properties\": {\n        \"dtype\": \"number\",\n        \"std\": 0.0,\n        \"min\": 2.0,\n        \"max\": 2.0,\n        \"num_unique_values\": 1,\n        \"samples\": [\n          2.0\n        ],\n        \"semantic_type\": \"\",\n        \"description\": \"\"\n      }\n    },\n    {\n      \"column\": \"DaySinceLastOrder\",\n      \"properties\": {\n        \"dtype\": \"number\",\n        \"std\": 2.7748873851023212,\n        \"min\": 1.0,\n        \"max\": 8.0,\n        \"num_unique_values\": 5,\n        \"samples\": [\n          3.0\n        ],\n        \"semantic_type\": \"\",\n        \"description\": \"\"\n      }\n    },\n    {\n      \"column\": \"CashbackAmount\",\n      \"properties\": {\n        \"dtype\": \"number\",\n        \"std\": 24,\n        \"min\": 148,\n        \"max\": 196,\n        \"num_unique_values\": 4,\n        \"samples\": [\n          148\n        ],\n        \"semantic_type\": \"\",\n        \"description\": \"\"\n      }\n    }\n  ]\n}"
            }
          },
          "metadata": {},
          "execution_count": 23
        }
      ],
      "source": [
        "df = pd.read_csv(\"/content/Untitled spreadsheet - E Comm.csv\")\n",
        "df.sample(5)"
      ]
    },
    {
      "cell_type": "markdown",
      "metadata": {
        "id": "KMHmQUgOc0NB"
      },
      "source": [
        "**First of all, drop customerID column as it is of no use**"
      ]
    },
    {
      "cell_type": "code",
      "execution_count": 24,
      "metadata": {
        "id": "XtjRWgSIc0NE"
      },
      "outputs": [],
      "source": [
        "df.drop('CustomerID',axis='columns',inplace=True)"
      ]
    },
    {
      "cell_type": "code",
      "execution_count": 25,
      "metadata": {
        "scrolled": false,
        "colab": {
          "base_uri": "https://localhost:8080/"
        },
        "id": "hv7tNPofc0NG",
        "outputId": "ad7c32ec-fed6-4f66-bb90-0ec7f3eca3a7"
      },
      "outputs": [
        {
          "output_type": "execute_result",
          "data": {
            "text/plain": [
              "Churn                            int64\n",
              "Tenure                         float64\n",
              "PreferredLoginDevice            object\n",
              "CityTier                         int64\n",
              "WarehouseToHome                float64\n",
              "PreferredPaymentMode            object\n",
              "Gender                          object\n",
              "HourSpendOnApp                 float64\n",
              "NumberOfDeviceRegistered         int64\n",
              "PreferedOrderCat                object\n",
              "SatisfactionScore                int64\n",
              "MaritalStatus                   object\n",
              "NumberOfAddress                  int64\n",
              "Complain                         int64\n",
              "OrderAmountHikeFromlastYear    float64\n",
              "CouponUsed                     float64\n",
              "OrderCount                     float64\n",
              "DaySinceLastOrder              float64\n",
              "CashbackAmount                   int64\n",
              "dtype: object"
            ]
          },
          "metadata": {},
          "execution_count": 25
        }
      ],
      "source": [
        "df.dtypes"
      ]
    },
    {
      "cell_type": "markdown",
      "metadata": {
        "id": "ioZGaQP8c0NL"
      },
      "source": [
        "**Quick glance at above makes me realize that CashbackAmount should be float but it is an object. Let's check what's going on with  this column**"
      ]
    },
    {
      "cell_type": "code",
      "execution_count": 26,
      "metadata": {
        "colab": {
          "base_uri": "https://localhost:8080/"
        },
        "id": "WoSM2B7Dc0NM",
        "outputId": "9f5168d5-d0e9-49b2-a1ac-7b5287b27453"
      },
      "outputs": [
        {
          "output_type": "execute_result",
          "data": {
            "text/plain": [
              "array([160, 121, 120, ..., 186, 179, 169])"
            ]
          },
          "metadata": {},
          "execution_count": 26
        }
      ],
      "source": [
        "df.CashbackAmount.values"
      ]
    },
    {
      "cell_type": "markdown",
      "metadata": {
        "id": "yZx83dgmc0NO"
      },
      "source": [
        "**Ahh... it is string. Lets convert it to numbers**"
      ]
    },
    {
      "cell_type": "code",
      "execution_count": 27,
      "metadata": {
        "colab": {
          "base_uri": "https://localhost:8080/"
        },
        "id": "ZCzKx8Rkc0NP",
        "outputId": "fc3c8141-0d9e-4e37-efd3-e5d23dbf7bf7"
      },
      "outputs": [
        {
          "output_type": "execute_result",
          "data": {
            "text/plain": [
              "0       160\n",
              "1       121\n",
              "2       120\n",
              "3       134\n",
              "4       130\n",
              "       ... \n",
              "5625    151\n",
              "5626    225\n",
              "5627    186\n",
              "5628    179\n",
              "5629    169\n",
              "Name: CashbackAmount, Length: 5630, dtype: int64"
            ]
          },
          "metadata": {},
          "execution_count": 27
        }
      ],
      "source": [
        "pd.to_numeric(df.CashbackAmount)"
      ]
    },
    {
      "cell_type": "markdown",
      "metadata": {
        "id": "3bIRAHhOc0Nq"
      },
      "source": [
        "**Hmmm... some values seems to be not numbers but blank string. Let's find out such rows**"
      ]
    },
    {
      "cell_type": "code",
      "execution_count": 13,
      "metadata": {
        "colab": {
          "base_uri": "https://localhost:8080/"
        },
        "id": "JCt_uXc8c0Ns",
        "outputId": "a0c723a8-7aa5-48f6-fd5d-73af72168147"
      },
      "outputs": [
        {
          "output_type": "execute_result",
          "data": {
            "text/plain": [
              "0       False\n",
              "1       False\n",
              "2       False\n",
              "3       False\n",
              "4       False\n",
              "        ...  \n",
              "5625    False\n",
              "5626    False\n",
              "5627    False\n",
              "5628    False\n",
              "5629    False\n",
              "Name: CashbackAmount, Length: 5630, dtype: bool"
            ]
          },
          "metadata": {},
          "execution_count": 13
        }
      ],
      "source": [
        "pd.to_numeric(df.CashbackAmount,errors='coerce').isnull()"
      ]
    },
    {
      "cell_type": "code",
      "execution_count": 14,
      "metadata": {
        "colab": {
          "base_uri": "https://localhost:8080/",
          "height": 73
        },
        "id": "JgeiPC-_c0Nu",
        "outputId": "6bb64bb8-0f8b-4fed-ee4b-dc6b47b69afa"
      },
      "outputs": [
        {
          "output_type": "execute_result",
          "data": {
            "text/plain": [
              "Empty DataFrame\n",
              "Columns: [Churn, Tenure, PreferredLoginDevice, CityTier, WarehouseToHome, PreferredPaymentMode, Gender, HourSpendOnApp, NumberOfDeviceRegistered, PreferedOrderCat, SatisfactionScore, MaritalStatus, NumberOfAddress, Complain, OrderAmountHikeFromlastYear, CouponUsed, OrderCount, DaySinceLastOrder, CashbackAmount]\n",
              "Index: []"
            ],
            "text/html": [
              "\n",
              "  <div id=\"df-90c4d2a8-e31a-4bdc-9f64-eecb46b73311\" class=\"colab-df-container\">\n",
              "    <div>\n",
              "<style scoped>\n",
              "    .dataframe tbody tr th:only-of-type {\n",
              "        vertical-align: middle;\n",
              "    }\n",
              "\n",
              "    .dataframe tbody tr th {\n",
              "        vertical-align: top;\n",
              "    }\n",
              "\n",
              "    .dataframe thead th {\n",
              "        text-align: right;\n",
              "    }\n",
              "</style>\n",
              "<table border=\"1\" class=\"dataframe\">\n",
              "  <thead>\n",
              "    <tr style=\"text-align: right;\">\n",
              "      <th></th>\n",
              "      <th>Churn</th>\n",
              "      <th>Tenure</th>\n",
              "      <th>PreferredLoginDevice</th>\n",
              "      <th>CityTier</th>\n",
              "      <th>WarehouseToHome</th>\n",
              "      <th>PreferredPaymentMode</th>\n",
              "      <th>Gender</th>\n",
              "      <th>HourSpendOnApp</th>\n",
              "      <th>NumberOfDeviceRegistered</th>\n",
              "      <th>PreferedOrderCat</th>\n",
              "      <th>SatisfactionScore</th>\n",
              "      <th>MaritalStatus</th>\n",
              "      <th>NumberOfAddress</th>\n",
              "      <th>Complain</th>\n",
              "      <th>OrderAmountHikeFromlastYear</th>\n",
              "      <th>CouponUsed</th>\n",
              "      <th>OrderCount</th>\n",
              "      <th>DaySinceLastOrder</th>\n",
              "      <th>CashbackAmount</th>\n",
              "    </tr>\n",
              "  </thead>\n",
              "  <tbody>\n",
              "  </tbody>\n",
              "</table>\n",
              "</div>\n",
              "    <div class=\"colab-df-buttons\">\n",
              "\n",
              "  <div class=\"colab-df-container\">\n",
              "    <button class=\"colab-df-convert\" onclick=\"convertToInteractive('df-90c4d2a8-e31a-4bdc-9f64-eecb46b73311')\"\n",
              "            title=\"Convert this dataframe to an interactive table.\"\n",
              "            style=\"display:none;\">\n",
              "\n",
              "  <svg xmlns=\"http://www.w3.org/2000/svg\" height=\"24px\" viewBox=\"0 -960 960 960\">\n",
              "    <path d=\"M120-120v-720h720v720H120Zm60-500h600v-160H180v160Zm220 220h160v-160H400v160Zm0 220h160v-160H400v160ZM180-400h160v-160H180v160Zm440 0h160v-160H620v160ZM180-180h160v-160H180v160Zm440 0h160v-160H620v160Z\"/>\n",
              "  </svg>\n",
              "    </button>\n",
              "\n",
              "  <style>\n",
              "    .colab-df-container {\n",
              "      display:flex;\n",
              "      gap: 12px;\n",
              "    }\n",
              "\n",
              "    .colab-df-convert {\n",
              "      background-color: #E8F0FE;\n",
              "      border: none;\n",
              "      border-radius: 50%;\n",
              "      cursor: pointer;\n",
              "      display: none;\n",
              "      fill: #1967D2;\n",
              "      height: 32px;\n",
              "      padding: 0 0 0 0;\n",
              "      width: 32px;\n",
              "    }\n",
              "\n",
              "    .colab-df-convert:hover {\n",
              "      background-color: #E2EBFA;\n",
              "      box-shadow: 0px 1px 2px rgba(60, 64, 67, 0.3), 0px 1px 3px 1px rgba(60, 64, 67, 0.15);\n",
              "      fill: #174EA6;\n",
              "    }\n",
              "\n",
              "    .colab-df-buttons div {\n",
              "      margin-bottom: 4px;\n",
              "    }\n",
              "\n",
              "    [theme=dark] .colab-df-convert {\n",
              "      background-color: #3B4455;\n",
              "      fill: #D2E3FC;\n",
              "    }\n",
              "\n",
              "    [theme=dark] .colab-df-convert:hover {\n",
              "      background-color: #434B5C;\n",
              "      box-shadow: 0px 1px 3px 1px rgba(0, 0, 0, 0.15);\n",
              "      filter: drop-shadow(0px 1px 2px rgba(0, 0, 0, 0.3));\n",
              "      fill: #FFFFFF;\n",
              "    }\n",
              "  </style>\n",
              "\n",
              "    <script>\n",
              "      const buttonEl =\n",
              "        document.querySelector('#df-90c4d2a8-e31a-4bdc-9f64-eecb46b73311 button.colab-df-convert');\n",
              "      buttonEl.style.display =\n",
              "        google.colab.kernel.accessAllowed ? 'block' : 'none';\n",
              "\n",
              "      async function convertToInteractive(key) {\n",
              "        const element = document.querySelector('#df-90c4d2a8-e31a-4bdc-9f64-eecb46b73311');\n",
              "        const dataTable =\n",
              "          await google.colab.kernel.invokeFunction('convertToInteractive',\n",
              "                                                    [key], {});\n",
              "        if (!dataTable) return;\n",
              "\n",
              "        const docLinkHtml = 'Like what you see? Visit the ' +\n",
              "          '<a target=\"_blank\" href=https://colab.research.google.com/notebooks/data_table.ipynb>data table notebook</a>'\n",
              "          + ' to learn more about interactive tables.';\n",
              "        element.innerHTML = '';\n",
              "        dataTable['output_type'] = 'display_data';\n",
              "        await google.colab.output.renderOutput(dataTable, element);\n",
              "        const docLink = document.createElement('div');\n",
              "        docLink.innerHTML = docLinkHtml;\n",
              "        element.appendChild(docLink);\n",
              "      }\n",
              "    </script>\n",
              "  </div>\n",
              "\n",
              "\n",
              "    </div>\n",
              "  </div>\n"
            ],
            "application/vnd.google.colaboratory.intrinsic+json": {
              "type": "dataframe",
              "repr_error": "Out of range float values are not JSON compliant: nan"
            }
          },
          "metadata": {},
          "execution_count": 14
        }
      ],
      "source": [
        "df[pd.to_numeric(df.CashbackAmount,errors='coerce').isnull()]"
      ]
    },
    {
      "cell_type": "code",
      "execution_count": 28,
      "metadata": {
        "colab": {
          "base_uri": "https://localhost:8080/"
        },
        "id": "epPtAQN5c0Nw",
        "outputId": "21d6e7f1-52af-4bb3-8ac1-f54eb4b6fa78"
      },
      "outputs": [
        {
          "output_type": "execute_result",
          "data": {
            "text/plain": [
              "(5630, 19)"
            ]
          },
          "metadata": {},
          "execution_count": 28
        }
      ],
      "source": [
        "df.shape"
      ]
    },
    {
      "cell_type": "code",
      "execution_count": 29,
      "metadata": {
        "colab": {
          "base_uri": "https://localhost:8080/"
        },
        "id": "UoiYo5mhc0N7",
        "outputId": "ddaa7d1f-8f49-46e7-f26f-f1fb4b07e758"
      },
      "outputs": [
        {
          "output_type": "execute_result",
          "data": {
            "text/plain": [
              "137"
            ]
          },
          "metadata": {},
          "execution_count": 29
        }
      ],
      "source": [
        "df.iloc[488].CashbackAmount"
      ]
    },
    {
      "cell_type": "code",
      "execution_count": 17,
      "metadata": {
        "colab": {
          "base_uri": "https://localhost:8080/"
        },
        "id": "7q5pcLYFc0N9",
        "outputId": "6592d776-4d0e-4b42-cdc4-ba855185a748"
      },
      "outputs": [
        {
          "output_type": "execute_result",
          "data": {
            "text/plain": [
              "(5630, 19)"
            ]
          },
          "metadata": {},
          "execution_count": 17
        }
      ],
      "source": [
        "df[df.CashbackAmount!=' '].shape"
      ]
    },
    {
      "cell_type": "markdown",
      "metadata": {
        "id": "1i7iRyWkc0N-"
      },
      "source": [
        "**Remove rows with space in CashbackAmount**"
      ]
    },
    {
      "cell_type": "code",
      "execution_count": 18,
      "metadata": {
        "colab": {
          "base_uri": "https://localhost:8080/"
        },
        "id": "u2hAE23Dc0N_",
        "outputId": "97ed934f-f7c8-4bef-bb0f-2e0f2f86a0b5"
      },
      "outputs": [
        {
          "output_type": "execute_result",
          "data": {
            "text/plain": [
              "(5630, 19)"
            ]
          },
          "metadata": {},
          "execution_count": 18
        }
      ],
      "source": [
        "df1 = df[df.CashbackAmount!=' ']\n",
        "df1.shape"
      ]
    },
    {
      "cell_type": "code",
      "execution_count": 19,
      "metadata": {
        "scrolled": true,
        "colab": {
          "base_uri": "https://localhost:8080/"
        },
        "id": "BxiQQzWec0OB",
        "outputId": "5e2d0734-6b9e-490a-e372-ad03c99f8554"
      },
      "outputs": [
        {
          "output_type": "execute_result",
          "data": {
            "text/plain": [
              "Churn                            int64\n",
              "Tenure                         float64\n",
              "PreferredLoginDevice            object\n",
              "CityTier                         int64\n",
              "WarehouseToHome                float64\n",
              "PreferredPaymentMode            object\n",
              "Gender                          object\n",
              "HourSpendOnApp                 float64\n",
              "NumberOfDeviceRegistered         int64\n",
              "PreferedOrderCat                object\n",
              "SatisfactionScore                int64\n",
              "MaritalStatus                   object\n",
              "NumberOfAddress                  int64\n",
              "Complain                         int64\n",
              "OrderAmountHikeFromlastYear    float64\n",
              "CouponUsed                     float64\n",
              "OrderCount                     float64\n",
              "DaySinceLastOrder              float64\n",
              "CashbackAmount                   int64\n",
              "dtype: object"
            ]
          },
          "metadata": {},
          "execution_count": 19
        }
      ],
      "source": [
        "df1.dtypes"
      ]
    },
    {
      "cell_type": "code",
      "execution_count": 30,
      "metadata": {
        "colab": {
          "base_uri": "https://localhost:8080/",
          "height": 141
        },
        "id": "0abuVaTQc0OC",
        "outputId": "2f43eac8-d066-481c-a39b-ae4d7125b98f"
      },
      "outputs": [
        {
          "output_type": "error",
          "ename": "AttributeError",
          "evalue": "module 'pandas' has no attribute 'to_float'",
          "traceback": [
            "\u001b[0;31m---------------------------------------------------------------------------\u001b[0m",
            "\u001b[0;31mAttributeError\u001b[0m                            Traceback (most recent call last)",
            "\u001b[0;32m<ipython-input-30-cd42b23b6fcb>\u001b[0m in \u001b[0;36m<cell line: 1>\u001b[0;34m()\u001b[0m\n\u001b[0;32m----> 1\u001b[0;31m \u001b[0mdf1\u001b[0m\u001b[0;34m.\u001b[0m\u001b[0mCashbackAmount\u001b[0m \u001b[0;34m=\u001b[0m \u001b[0mpd\u001b[0m\u001b[0;34m.\u001b[0m\u001b[0mto_float\u001b[0m\u001b[0;34m(\u001b[0m\u001b[0mdf1\u001b[0m\u001b[0;34m.\u001b[0m\u001b[0mCashbackAmount\u001b[0m\u001b[0;34m)\u001b[0m\u001b[0;34m\u001b[0m\u001b[0;34m\u001b[0m\u001b[0m\n\u001b[0m",
            "\u001b[0;31mAttributeError\u001b[0m: module 'pandas' has no attribute 'to_float'"
          ]
        }
      ],
      "source": [
        "df1.CashbackAmount = pd.to_numeric(df1.CashbackAmount)"
      ]
    },
    {
      "cell_type": "code",
      "execution_count": 31,
      "metadata": {
        "colab": {
          "base_uri": "https://localhost:8080/"
        },
        "id": "eYhDtceBc0OD",
        "outputId": "1bc8a220-a044-47d1-dd96-5403dcbed66f"
      },
      "outputs": [
        {
          "output_type": "execute_result",
          "data": {
            "text/plain": [
              "array([160, 121, 120, ..., 186, 179, 169])"
            ]
          },
          "metadata": {},
          "execution_count": 31
        }
      ],
      "source": [
        "df1.CashbackAmount.values"
      ]
    },
    {
      "cell_type": "code",
      "execution_count": 40,
      "metadata": {
        "scrolled": true,
        "colab": {
          "base_uri": "https://localhost:8080/",
          "height": 489
        },
        "id": "LTIX-F0rc0OE",
        "outputId": "9b651f81-7e4a-4a6d-e917-8582582e01e5"
      },
      "outputs": [
        {
          "output_type": "execute_result",
          "data": {
            "text/plain": [
              "<matplotlib.legend.Legend at 0x7a8e0215c670>"
            ]
          },
          "metadata": {},
          "execution_count": 40
        },
        {
          "output_type": "display_data",
          "data": {
            "text/plain": [
              "<Figure size 640x480 with 1 Axes>"
            ],
            "image/png": "[encoded data removed]"
          },
          "metadata": {}
        }
      ],
      "source": [
        "tenure_churn_no = df1[df1.Churn==0].SatisfactionScore\n",
        "tenure_churn_yes = df1[df1.Churn==1].SatisfactionScore\n",
        "plt.hist([tenure_churn_no, tenure_churn_yes],color=['green','red'], label=['churn_no','churn_yes'])\n",
        "plt.xlabel('Satisfaction Score')\n",
        "plt.ylabel('Number Of Customers')\n",
        "plt.title('Customer Churn Prediction Visualiztion')\n",
        "plt.legend()"
      ]
    },
    {
      "cell_type": "markdown",
      "metadata": {
        "id": "T0t7pGnpc0OE"
      },
      "source": [
        "**Data Visualization**"
      ]
    },
    {
      "cell_type": "code",
      "execution_count": 41,
      "metadata": {
        "colab": {
          "base_uri": "https://localhost:8080/",
          "height": 489
        },
        "id": "ptJnk8SZc0OF",
        "outputId": "e07abd34-7ca7-43b7-a113-71cb74dfe24a"
      },
      "outputs": [
        {
          "output_type": "execute_result",
          "data": {
            "text/plain": [
              "<matplotlib.legend.Legend at 0x7a8e02020940>"
            ]
          },
          "metadata": {},
          "execution_count": 41
        },
        {
          "output_type": "display_data",
          "data": {
            "text/plain": [
              "<Figure size 640x480 with 1 Axes>"
            ],
            "image/png": "[encoded data removed]"
          },
          "metadata": {}
        }
      ],
      "source": [
        "tenure_churn_no = df1[df1.Churn==0].Tenure\n",
        "tenure_churn_yes = df1[df1.Churn==1].Tenure\n",
        "\n",
        "plt.xlabel(\"Tenure\")\n",
        "plt.ylabel(\"Number Of Customers\")\n",
        "plt.title(\"Customer Churn Prediction Visualiztion\")\n",
        "\n",
        "plt.hist([tenure_churn_yes, tenure_churn_no], rwidth=0.95, color=['green','red'],label=['Churn=Yes','Churn=No'])\n",
        "plt.legend()"
      ]
    },
    {
      "cell_type": "code",
      "execution_count": null,
      "metadata": {
        "id": "cl9ZRVJ9c0OH",
        "outputId": "5225b200-b20e-4cbf-dc0b-d054e2ebed36"
      },
      "outputs": [
        {
          "data": {
            "text/plain": [
              "<matplotlib.legend.Legend at 0x2181d15fac0>"
            ]
          },
          "execution_count": 272,
          "metadata": {},
          "output_type": "execute_result"
        },
        {
          "data": {
            "image/png": "[encoded data removed]",
            "text/plain": [
              "<Figure size 432x288 with 1 Axes>"
            ]
          },
          "metadata": {
            "needs_background": "light"
          },
          "output_type": "display_data"
        }
      ],
      "source": [
        "mc_churn_no = df1[df1.Churn=='No'].MonthlyCharges\n",
        "mc_churn_yes = df1[df1.Churn=='Yes'].MonthlyCharges\n",
        "\n",
        "plt.xlabel(\"Monthly Charges\")\n",
        "plt.ylabel(\"Number Of Customers\")\n",
        "plt.title(\"Customer Churn Prediction Visualiztion\")\n",
        "\n",
        "\n",
        "plt.hist([mc_churn_yes, mc_churn_no], rwidth=0.95, color=['green','red'],label=['Churn=Yes','Churn=No'])\n",
        "plt.legend()"
      ]
    },
    {
      "cell_type": "markdown",
      "metadata": {
        "id": "Zr2n5Kroc0OJ"
      },
      "source": [
        "**Many of the columns are yes, no etc. Let's print unique values in object columns to see data values**"
      ]
    },
    {
      "cell_type": "code",
      "execution_count": 45,
      "metadata": {
        "id": "fsCGHeoAc0OK"
      },
      "outputs": [],
      "source": [
        "def print_unique_col_values(df):\n",
        "       for column in df:\n",
        "            if df[column].dtypes=='object':\n",
        "                print(f'{column}: {df[column].unique()}')"
      ]
    },
    {
      "cell_type": "code",
      "execution_count": 46,
      "metadata": {
        "scrolled": true,
        "colab": {
          "base_uri": "https://localhost:8080/"
        },
        "id": "M8zqlQajc0OM",
        "outputId": "1d7cfe9b-a55d-4b2e-ec0c-0621da88184b"
      },
      "outputs": [
        {
          "output_type": "stream",
          "name": "stdout",
          "text": [
            "PreferredLoginDevice: ['Mobile Phone' 'Phone' 'Computer']\n",
            "PreferredPaymentMode: ['Debit Card' 'UPI' 'CC' 'Cash on Delivery' 'E wallet' 'COD' 'Credit Card']\n",
            "Gender: ['Female' 'Male']\n",
            "PreferedOrderCat: ['Laptop & Accessory' 'Mobile' 'Mobile Phone' 'Others' 'Fashion' 'Grocery']\n",
            "MaritalStatus: ['Single' 'Divorced' 'Married']\n",
            "PreferredLoginDevice: ['Mobile Phone' 'Phone' 'Computer']\n",
            "PreferredPaymentMode: ['Debit Card' 'UPI' 'CC' 'Cash on Delivery' 'E wallet' 'COD' 'Credit Card']\n",
            "Gender: ['Female' 'Male']\n",
            "PreferedOrderCat: ['Laptop & Accessory' 'Mobile' 'Mobile Phone' 'Others' 'Fashion' 'Grocery']\n",
            "MaritalStatus: ['Single' 'Divorced' 'Married']\n"
          ]
        }
      ],
      "source": [
        "print_unique_col_values(df1)"
      ]
    },
    {
      "cell_type": "markdown",
      "metadata": {
        "id": "R2HQZxshc0ON"
      },
      "source": [
        "**Some of the columns have repeating values, that can be replaced with a simple No**"
      ]
    },
    {
      "cell_type": "code",
      "execution_count": 48,
      "metadata": {
        "scrolled": false,
        "id": "ZULQVrTIc0OO"
      },
      "outputs": [],
      "source": [
        "df1.replace('Divorced','Single',inplace=True)\n",
        "df1.replace('Mobile Phone','Mobile',inplace=True)"
      ]
    },
    {
      "cell_type": "code",
      "execution_count": 49,
      "metadata": {
        "scrolled": false,
        "colab": {
          "base_uri": "https://localhost:8080/"
        },
        "id": "qQ1skj6Sc0OP",
        "outputId": "0b91813b-b69e-4f1d-d34b-631cfa9332f1"
      },
      "outputs": [
        {
          "output_type": "stream",
          "name": "stdout",
          "text": [
            "PreferredLoginDevice: ['Mobile' 'Phone' 'Computer']\n",
            "PreferredPaymentMode: ['Debit Card' 'UPI' 'CC' 'Cash on Delivery' 'E wallet' 'COD' 'Credit Card']\n",
            "Gender: ['Female' 'Male']\n",
            "PreferedOrderCat: ['Laptop & Accessory' 'Mobile' 'Others' 'Fashion' 'Grocery']\n",
            "MaritalStatus: ['Single' 'Married']\n"
          ]
        }
      ],
      "source": [
        "print_unique_col_values(df1)"
      ]
    },
    {
      "cell_type": "code",
      "execution_count": 50,
      "metadata": {
        "colab": {
          "base_uri": "https://localhost:8080/"
        },
        "id": "3sIYBw46c0OT",
        "outputId": "6abffb02-e04d-4ce6-a57d-d9d88c65bdf8"
      },
      "outputs": [
        {
          "output_type": "stream",
          "name": "stdout",
          "text": [
            "Churn: [1 0]\n",
            "Tenure: [ 4. nan  0. 13. 11.  9. 19. 20. 14.  8. 18.  5.  2. 30.  1. 23.  3. 29.\n",
            "  6. 26. 28.  7. 24. 25. 10. 15. 22. 27. 16. 12. 21. 17. 50. 60. 31. 51.\n",
            " 61.]\n",
            "PreferredLoginDevice: ['Mobile' 'Phone' 'Computer']\n",
            "CityTier: [3 1 2]\n",
            "WarehouseToHome: [  6.   8.  30.  15.  12.  22.  11.   9.  31.  18.  13.  20.  29.  28.\n",
            "  26.  14.  nan  10.  27.  17.  23.  33.  19.  35.  24.  16.  25.  32.\n",
            "  34.   5.  21. 126.   7.  36. 127.]\n",
            "PreferredPaymentMode: ['Debit Card' 'UPI' 'CC' 'Cash on Delivery' 'E wallet' 'COD' 'Credit Card']\n",
            "Gender: ['Female' 'Male']\n",
            "HourSpendOnApp: [ 3.  2. nan  1.  0.  4.  5.]\n",
            "NumberOfDeviceRegistered: [3 4 5 2 1 6]\n",
            "PreferedOrderCat: ['Laptop & Accessory' 'Mobile' 'Others' 'Fashion' 'Grocery']\n",
            "SatisfactionScore: [2 3 5 4 1]\n",
            "MaritalStatus: ['Single' 'Married']\n",
            "NumberOfAddress: [ 9  7  6  8  3  2  4 10  1  5 19 21 11 20 22]\n",
            "Complain: [1 0]\n",
            "OrderAmountHikeFromlastYear: [11. 15. 14. 23. 22. 16. 12. nan 13. 17. 18. 24. 19. 20. 21. 25. 26.]\n",
            "CouponUsed: [ 1.  0.  4.  2.  9.  6. 11. nan  7. 12. 10.  5.  3. 13. 15.  8. 14. 16.]\n",
            "OrderCount: [ 1.  6.  2. 15.  4.  7.  3.  9. nan 11.  5. 12. 10.  8. 13. 14. 16.]\n",
            "DaySinceLastOrder: [ 5.  0.  3.  7.  2.  1.  8.  6.  4. 15.  9. 11. 10. nan 13. 12. 17. 16.\n",
            " 14. 30. 46. 18. 31.]\n",
            "CashbackAmount: [160 121 120 134 130 139 123 127 295 154 196 129 157 161 150 162 203 117\n",
            " 146 207 142 173 190 143 133 209 122 194 126 299 125 187 131 111 205 137\n",
            " 145 128 290 287 195 237 300 159 268 136 144 153 166 163 168 138 167 176\n",
            " 149 204 185 200 225 236 189 222 206   0 179 188 124 132 292 261 291 164\n",
            " 165 169 294 135 152 269 156 140 235 218 220 276 147 158 114 180 155 260\n",
            " 112 221 148 219 271 240 175 151 293 283 215 171 183 181 197 267 243 232\n",
            " 184 266 296 280 241 270 279 191 198 141 174 262 216 119 282 254 177 110\n",
            " 113 186 212 248 217 238 211 284 116 272 228 202 263 208 249 178 274 214\n",
            " 210 227 298 233 277 234 275 231 182 286 278 297 288 281 199 273 247 193\n",
            " 264 192 201 244 252 170 229 230 258 115  12 118 289 239  56 320 324 315\n",
            " 312 325 250  25 213 317 316 319 245 301 172 285 246 265 318 308 257 321\n",
            " 305 304 223 307 242 309 253 323 302 259 256 311 303 322 313 306 224 226\n",
            " 255  37 314  81]\n"
          ]
        }
      ],
      "source": [
        "for col in df1:\n",
        "    print(f'{col}: {df1[col].unique()}')"
      ]
    },
    {
      "cell_type": "code",
      "execution_count": 51,
      "metadata": {
        "id": "v_QX5roFc0OT"
      },
      "outputs": [],
      "source": [
        "df1['Gender'].replace({'Female':1,'Male':0},inplace=True)"
      ]
    },
    {
      "cell_type": "code",
      "execution_count": 58,
      "metadata": {
        "colab": {
          "base_uri": "https://localhost:8080/"
        },
        "id": "YQ90WeOkc0OU",
        "outputId": "799ee422-556c-41f8-b4e0-2400e2d3d1f4"
      },
      "outputs": [
        {
          "output_type": "execute_result",
          "data": {
            "text/plain": [
              "array([1, 0])"
            ]
          },
          "metadata": {},
          "execution_count": 58
        }
      ],
      "source": [
        "df1.Gender.unique()"
      ]
    },
    {
      "cell_type": "markdown",
      "metadata": {
        "id": "erd-Zztyc0OV"
      },
      "source": [
        "**One hot encoding for categorical columns**"
      ]
    },
    {
      "cell_type": "code",
      "execution_count": 54,
      "metadata": {
        "colab": {
          "base_uri": "https://localhost:8080/"
        },
        "id": "nzX3bkmWc0Ok",
        "outputId": "1dc06b23-18bc-4f42-dec6-758b88875b17"
      },
      "outputs": [
        {
          "output_type": "execute_result",
          "data": {
            "text/plain": [
              "Index(['Churn', 'Tenure', 'CityTier', 'WarehouseToHome', 'Gender',\n",
              "       'HourSpendOnApp', 'NumberOfDeviceRegistered', 'SatisfactionScore',\n",
              "       'MaritalStatus', 'NumberOfAddress', 'Complain',\n",
              "       'OrderAmountHikeFromlastYear', 'CouponUsed', 'OrderCount',\n",
              "       'DaySinceLastOrder', 'CashbackAmount', 'PreferredLoginDevice_Computer',\n",
              "       'PreferredLoginDevice_Mobile', 'PreferredLoginDevice_Phone',\n",
              "       'PreferedOrderCat_Fashion', 'PreferedOrderCat_Grocery',\n",
              "       'PreferedOrderCat_Laptop & Accessory', 'PreferedOrderCat_Mobile',\n",
              "       'PreferedOrderCat_Others', 'PreferredPaymentMode_CC',\n",
              "       'PreferredPaymentMode_COD', 'PreferredPaymentMode_Cash on Delivery',\n",
              "       'PreferredPaymentMode_Credit Card', 'PreferredPaymentMode_Debit Card',\n",
              "       'PreferredPaymentMode_E wallet', 'PreferredPaymentMode_UPI'],\n",
              "      dtype='object')"
            ]
          },
          "metadata": {},
          "execution_count": 54
        }
      ],
      "source": [
        "df2 = pd.get_dummies(data=df1, columns=['PreferredLoginDevice','PreferedOrderCat','PreferredPaymentMode'])\n",
        "df2.columns"
      ]
    },
    {
      "cell_type": "code",
      "execution_count": 55,
      "metadata": {
        "colab": {
          "base_uri": "https://localhost:8080/",
          "height": 273
        },
        "id": "oog3J9vSc0Ol",
        "outputId": "89a088a5-49b8-4949-bcd1-dcc4f213f533"
      },
      "outputs": [
        {
          "output_type": "execute_result",
          "data": {
            "text/plain": [
              "      Churn  Tenure  CityTier  WarehouseToHome  Gender  HourSpendOnApp  \\\n",
              "440       0     0.0         1             16.0       0             3.0   \n",
              "1802      1     NaN         3             11.0       0             3.0   \n",
              "2579      0    20.0         3              8.0       0             2.0   \n",
              "3672      0    12.0         1             14.0       0             3.0   \n",
              "3148      0    14.0         3             35.0       0             3.0   \n",
              "\n",
              "      NumberOfDeviceRegistered  SatisfactionScore MaritalStatus  \\\n",
              "440                          2                  3        Single   \n",
              "1802                         3                  4        Single   \n",
              "2579                         3                  4       Married   \n",
              "3672                         2                  3       Married   \n",
              "3148                         6                  5       Married   \n",
              "\n",
              "      NumberOfAddress  ...  PreferedOrderCat_Laptop & Accessory  \\\n",
              "440                 2  ...                                False   \n",
              "1802                2  ...                                False   \n",
              "2579                8  ...                                 True   \n",
              "3672                3  ...                                False   \n",
              "3148                5  ...                                False   \n",
              "\n",
              "      PreferedOrderCat_Mobile  PreferedOrderCat_Others  \\\n",
              "440                      True                    False   \n",
              "1802                     True                    False   \n",
              "2579                    False                    False   \n",
              "3672                     True                    False   \n",
              "3148                    False                    False   \n",
              "\n",
              "      PreferredPaymentMode_CC  PreferredPaymentMode_COD  \\\n",
              "440                     False                     False   \n",
              "1802                    False                     False   \n",
              "2579                    False                     False   \n",
              "3672                    False                     False   \n",
              "3148                    False                     False   \n",
              "\n",
              "      PreferredPaymentMode_Cash on Delivery  PreferredPaymentMode_Credit Card  \\\n",
              "440                                   False                              True   \n",
              "1802                                  False                             False   \n",
              "2579                                  False                             False   \n",
              "3672                                  False                             False   \n",
              "3148                                  False                             False   \n",
              "\n",
              "      PreferredPaymentMode_Debit Card  PreferredPaymentMode_E wallet  \\\n",
              "440                             False                          False   \n",
              "1802                            False                           True   \n",
              "2579                            False                           True   \n",
              "3672                             True                          False   \n",
              "3148                            False                          False   \n",
              "\n",
              "      PreferredPaymentMode_UPI  \n",
              "440                      False  \n",
              "1802                     False  \n",
              "2579                     False  \n",
              "3672                     False  \n",
              "3148                      True  \n",
              "\n",
              "[5 rows x 31 columns]"
            ],
            "text/html": [
              "\n",
              "  <div id=\"df-4ec560f0-ee4e-4b85-8a81-c7af1aea8062\" class=\"colab-df-container\">\n",
              "    <div>\n",
              "<style scoped>\n",
              "    .dataframe tbody tr th:only-of-type {\n",
              "        vertical-align: middle;\n",
              "    }\n",
              "\n",
              "    .dataframe tbody tr th {\n",
              "        vertical-align: top;\n",
              "    }\n",
              "\n",
              "    .dataframe thead th {\n",
              "        text-align: right;\n",
              "    }\n",
              "</style>\n",
              "<table border=\"1\" class=\"dataframe\">\n",
              "  <thead>\n",
              "    <tr style=\"text-align: right;\">\n",
              "      <th></th>\n",
              "      <th>Churn</th>\n",
              "      <th>Tenure</th>\n",
              "      <th>CityTier</th>\n",
              "      <th>WarehouseToHome</th>\n",
              "      <th>Gender</th>\n",
              "      <th>HourSpendOnApp</th>\n",
              "      <th>NumberOfDeviceRegistered</th>\n",
              "      <th>SatisfactionScore</th>\n",
              "      <th>MaritalStatus</th>\n",
              "      <th>NumberOfAddress</th>\n",
              "      <th>...</th>\n",
              "      <th>PreferedOrderCat_Laptop &amp; Accessory</th>\n",
              "      <th>PreferedOrderCat_Mobile</th>\n",
              "      <th>PreferedOrderCat_Others</th>\n",
              "      <th>PreferredPaymentMode_CC</th>\n",
              "      <th>PreferredPaymentMode_COD</th>\n",
              "      <th>PreferredPaymentMode_Cash on Delivery</th>\n",
              "      <th>PreferredPaymentMode_Credit Card</th>\n",
              "      <th>PreferredPaymentMode_Debit Card</th>\n",
              "      <th>PreferredPaymentMode_E wallet</th>\n",
              "      <th>PreferredPaymentMode_UPI</th>\n",
              "    </tr>\n",
              "  </thead>\n",
              "  <tbody>\n",
              "    <tr>\n",
              "      <th>440</th>\n",
              "      <td>0</td>\n",
              "      <td>0.0</td>\n",
              "      <td>1</td>\n",
              "      <td>16.0</td>\n",
              "      <td>0</td>\n",
              "      <td>3.0</td>\n",
              "      <td>2</td>\n",
              "      <td>3</td>\n",
              "      <td>Single</td>\n",
              "      <td>2</td>\n",
              "      <td>...</td>\n",
              "      <td>False</td>\n",
              "      <td>True</td>\n",
              "      <td>False</td>\n",
              "      <td>False</td>\n",
              "      <td>False</td>\n",
              "      <td>False</td>\n",
              "      <td>True</td>\n",
              "      <td>False</td>\n",
              "      <td>False</td>\n",
              "      <td>False</td>\n",
              "    </tr>\n",
              "    <tr>\n",
              "      <th>1802</th>\n",
              "      <td>1</td>\n",
              "      <td>NaN</td>\n",
              "      <td>3</td>\n",
              "      <td>11.0</td>\n",
              "      <td>0</td>\n",
              "      <td>3.0</td>\n",
              "      <td>3</td>\n",
              "      <td>4</td>\n",
              "      <td>Single</td>\n",
              "      <td>2</td>\n",
              "      <td>...</td>\n",
              "      <td>False</td>\n",
              "      <td>True</td>\n",
              "      <td>False</td>\n",
              "      <td>False</td>\n",
              "      <td>False</td>\n",
              "      <td>False</td>\n",
              "      <td>False</td>\n",
              "      <td>False</td>\n",
              "      <td>True</td>\n",
              "      <td>False</td>\n",
              "    </tr>\n",
              "    <tr>\n",
              "      <th>2579</th>\n",
              "      <td>0</td>\n",
              "      <td>20.0</td>\n",
              "      <td>3</td>\n",
              "      <td>8.0</td>\n",
              "      <td>0</td>\n",
              "      <td>2.0</td>\n",
              "      <td>3</td>\n",
              "      <td>4</td>\n",
              "      <td>Married</td>\n",
              "      <td>8</td>\n",
              "      <td>...</td>\n",
              "      <td>True</td>\n",
              "      <td>False</td>\n",
              "      <td>False</td>\n",
              "      <td>False</td>\n",
              "      <td>False</td>\n",
              "      <td>False</td>\n",
              "      <td>False</td>\n",
              "      <td>False</td>\n",
              "      <td>True</td>\n",
              "      <td>False</td>\n",
              "    </tr>\n",
              "    <tr>\n",
              "      <th>3672</th>\n",
              "      <td>0</td>\n",
              "      <td>12.0</td>\n",
              "      <td>1</td>\n",
              "      <td>14.0</td>\n",
              "      <td>0</td>\n",
              "      <td>3.0</td>\n",
              "      <td>2</td>\n",
              "      <td>3</td>\n",
              "      <td>Married</td>\n",
              "      <td>3</td>\n",
              "      <td>...</td>\n",
              "      <td>False</td>\n",
              "      <td>True</td>\n",
              "      <td>False</td>\n",
              "      <td>False</td>\n",
              "      <td>False</td>\n",
              "      <td>False</td>\n",
              "      <td>False</td>\n",
              "      <td>True</td>\n",
              "      <td>False</td>\n",
              "      <td>False</td>\n",
              "    </tr>\n",
              "    <tr>\n",
              "      <th>3148</th>\n",
              "      <td>0</td>\n",
              "      <td>14.0</td>\n",
              "      <td>3</td>\n",
              "      <td>35.0</td>\n",
              "      <td>0</td>\n",
              "      <td>3.0</td>\n",
              "      <td>6</td>\n",
              "      <td>5</td>\n",
              "      <td>Married</td>\n",
              "      <td>5</td>\n",
              "      <td>...</td>\n",
              "      <td>False</td>\n",
              "      <td>False</td>\n",
              "      <td>False</td>\n",
              "      <td>False</td>\n",
              "      <td>False</td>\n",
              "      <td>False</td>\n",
              "      <td>False</td>\n",
              "      <td>False</td>\n",
              "      <td>False</td>\n",
              "      <td>True</td>\n",
              "    </tr>\n",
              "  </tbody>\n",
              "</table>\n",
              "<p>5 rows × 31 columns</p>\n",
              "</div>\n",
              "    <div class=\"colab-df-buttons\">\n",
              "\n",
              "  <div class=\"colab-df-container\">\n",
              "    <button class=\"colab-df-convert\" onclick=\"convertToInteractive('df-4ec560f0-ee4e-4b85-8a81-c7af1aea8062')\"\n",
              "            title=\"Convert this dataframe to an interactive table.\"\n",
              "            style=\"display:none;\">\n",
              "\n",
              "  <svg xmlns=\"http://www.w3.org/2000/svg\" height=\"24px\" viewBox=\"0 -960 960 960\">\n",
              "    <path d=\"M120-120v-720h720v720H120Zm60-500h600v-160H180v160Zm220 220h160v-160H400v160Zm0 220h160v-160H400v160ZM180-400h160v-160H180v160Zm440 0h160v-160H620v160ZM180-180h160v-160H180v160Zm440 0h160v-160H620v160Z\"/>\n",
              "  </svg>\n",
              "    </button>\n",
              "\n",
              "  <style>\n",
              "    .colab-df-container {\n",
              "      display:flex;\n",
              "      gap: 12px;\n",
              "    }\n",
              "\n",
              "    .colab-df-convert {\n",
              "      background-color: #E8F0FE;\n",
              "      border: none;\n",
              "      border-radius: 50%;\n",
              "      cursor: pointer;\n",
              "      display: none;\n",
              "      fill: #1967D2;\n",
              "      height: 32px;\n",
              "      padding: 0 0 0 0;\n",
              "      width: 32px;\n",
              "    }\n",
              "\n",
              "    .colab-df-convert:hover {\n",
              "      background-color: #E2EBFA;\n",
              "      box-shadow: 0px 1px 2px rgba(60, 64, 67, 0.3), 0px 1px 3px 1px rgba(60, 64, 67, 0.15);\n",
              "      fill: #174EA6;\n",
              "    }\n",
              "\n",
              "    .colab-df-buttons div {\n",
              "      margin-bottom: 4px;\n",
              "    }\n",
              "\n",
              "    [theme=dark] .colab-df-convert {\n",
              "      background-color: #3B4455;\n",
              "      fill: #D2E3FC;\n",
              "    }\n",
              "\n",
              "    [theme=dark] .colab-df-convert:hover {\n",
              "      background-color: #434B5C;\n",
              "      box-shadow: 0px 1px 3px 1px rgba(0, 0, 0, 0.15);\n",
              "      filter: drop-shadow(0px 1px 2px rgba(0, 0, 0, 0.3));\n",
              "      fill: #FFFFFF;\n",
              "    }\n",
              "  </style>\n",
              "\n",
              "    <script>\n",
              "      const buttonEl =\n",
              "        document.querySelector('#df-4ec560f0-ee4e-4b85-8a81-c7af1aea8062 button.colab-df-convert');\n",
              "      buttonEl.style.display =\n",
              "        google.colab.kernel.accessAllowed ? 'block' : 'none';\n",
              "\n",
              "      async function convertToInteractive(key) {\n",
              "        const element = document.querySelector('#df-4ec560f0-ee4e-4b85-8a81-c7af1aea8062');\n",
              "        const dataTable =\n",
              "          await google.colab.kernel.invokeFunction('convertToInteractive',\n",
              "                                                    [key], {});\n",
              "        if (!dataTable) return;\n",
              "\n",
              "        const docLinkHtml = 'Like what you see? Visit the ' +\n",
              "          '<a target=\"_blank\" href=https://colab.research.google.com/notebooks/data_table.ipynb>data table notebook</a>'\n",
              "          + ' to learn more about interactive tables.';\n",
              "        element.innerHTML = '';\n",
              "        dataTable['output_type'] = 'display_data';\n",
              "        await google.colab.output.renderOutput(dataTable, element);\n",
              "        const docLink = document.createElement('div');\n",
              "        docLink.innerHTML = docLinkHtml;\n",
              "        element.appendChild(docLink);\n",
              "      }\n",
              "    </script>\n",
              "  </div>\n",
              "\n",
              "\n",
              "<div id=\"df-a9c9184e-38e4-48cd-accf-89a51eafb986\">\n",
              "  <button class=\"colab-df-quickchart\" onclick=\"quickchart('df-a9c9184e-38e4-48cd-accf-89a51eafb986')\"\n",
              "            title=\"Suggest charts\"\n",
              "            style=\"display:none;\">\n",
              "\n",
              "<svg xmlns=\"http://www.w3.org/2000/svg\" height=\"24px\"viewBox=\"0 0 24 24\"\n",
              "     width=\"24px\">\n",
              "    <g>\n",
              "        <path d=\"M19 3H5c-1.1 0-2 .9-2 2v14c0 1.1.9 2 2 2h14c1.1 0 2-.9 2-2V5c0-1.1-.9-2-2-2zM9 17H7v-7h2v7zm4 0h-2V7h2v10zm4 0h-2v-4h2v4z\"/>\n",
              "    </g>\n",
              "</svg>\n",
              "  </button>\n",
              "\n",
              "<style>\n",
              "  .colab-df-quickchart {\n",
              "      --bg-color: #E8F0FE;\n",
              "      --fill-color: #1967D2;\n",
              "      --hover-bg-color: #E2EBFA;\n",
              "      --hover-fill-color: #174EA6;\n",
              "      --disabled-fill-color: #AAA;\n",
              "      --disabled-bg-color: #DDD;\n",
              "  }\n",
              "\n",
              "  [theme=dark] .colab-df-quickchart {\n",
              "      --bg-color: #3B4455;\n",
              "      --fill-color: #D2E3FC;\n",
              "      --hover-bg-color: #434B5C;\n",
              "      --hover-fill-color: #FFFFFF;\n",
              "      --disabled-bg-color: #3B4455;\n",
              "      --disabled-fill-color: #666;\n",
              "  }\n",
              "\n",
              "  .colab-df-quickchart {\n",
              "    background-color: var(--bg-color);\n",
              "    border: none;\n",
              "    border-radius: 50%;\n",
              "    cursor: pointer;\n",
              "    display: none;\n",
              "    fill: var(--fill-color);\n",
              "    height: 32px;\n",
              "    padding: 0;\n",
              "    width: 32px;\n",
              "  }\n",
              "\n",
              "  .colab-df-quickchart:hover {\n",
              "    background-color: var(--hover-bg-color);\n",
              "    box-shadow: 0 1px 2px rgba(60, 64, 67, 0.3), 0 1px 3px 1px rgba(60, 64, 67, 0.15);\n",
              "    fill: var(--button-hover-fill-color);\n",
              "  }\n",
              "\n",
              "  .colab-df-quickchart-complete:disabled,\n",
              "  .colab-df-quickchart-complete:disabled:hover {\n",
              "    background-color: var(--disabled-bg-color);\n",
              "    fill: var(--disabled-fill-color);\n",
              "    box-shadow: none;\n",
              "  }\n",
              "\n",
              "  .colab-df-spinner {\n",
              "    border: 2px solid var(--fill-color);\n",
              "    border-color: transparent;\n",
              "    border-bottom-color: var(--fill-color);\n",
              "    animation:\n",
              "      spin 1s steps(1) infinite;\n",
              "  }\n",
              "\n",
              "  @keyframes spin {\n",
              "    0% {\n",
              "      border-color: transparent;\n",
              "      border-bottom-color: var(--fill-color);\n",
              "      border-left-color: var(--fill-color);\n",
              "    }\n",
              "    20% {\n",
              "      border-color: transparent;\n",
              "      border-left-color: var(--fill-color);\n",
              "      border-top-color: var(--fill-color);\n",
              "    }\n",
              "    30% {\n",
              "      border-color: transparent;\n",
              "      border-left-color: var(--fill-color);\n",
              "      border-top-color: var(--fill-color);\n",
              "      border-right-color: var(--fill-color);\n",
              "    }\n",
              "    40% {\n",
              "      border-color: transparent;\n",
              "      border-right-color: var(--fill-color);\n",
              "      border-top-color: var(--fill-color);\n",
              "    }\n",
              "    60% {\n",
              "      border-color: transparent;\n",
              "      border-right-color: var(--fill-color);\n",
              "    }\n",
              "    80% {\n",
              "      border-color: transparent;\n",
              "      border-right-color: var(--fill-color);\n",
              "      border-bottom-color: var(--fill-color);\n",
              "    }\n",
              "    90% {\n",
              "      border-color: transparent;\n",
              "      border-bottom-color: var(--fill-color);\n",
              "    }\n",
              "  }\n",
              "</style>\n",
              "\n",
              "  <script>\n",
              "    async function quickchart(key) {\n",
              "      const quickchartButtonEl =\n",
              "        document.querySelector('#' + key + ' button');\n",
              "      quickchartButtonEl.disabled = true;  // To prevent multiple clicks.\n",
              "      quickchartButtonEl.classList.add('colab-df-spinner');\n",
              "      try {\n",
              "        const charts = await google.colab.kernel.invokeFunction(\n",
              "            'suggestCharts', [key], {});\n",
              "      } catch (error) {\n",
              "        console.error('Error during call to suggestCharts:', error);\n",
              "      }\n",
              "      quickchartButtonEl.classList.remove('colab-df-spinner');\n",
              "      quickchartButtonEl.classList.add('colab-df-quickchart-complete');\n",
              "    }\n",
              "    (() => {\n",
              "      let quickchartButtonEl =\n",
              "        document.querySelector('#df-a9c9184e-38e4-48cd-accf-89a51eafb986 button');\n",
              "      quickchartButtonEl.style.display =\n",
              "        google.colab.kernel.accessAllowed ? 'block' : 'none';\n",
              "    })();\n",
              "  </script>\n",
              "</div>\n",
              "\n",
              "    </div>\n",
              "  </div>\n"
            ],
            "application/vnd.google.colaboratory.intrinsic+json": {
              "type": "dataframe"
            }
          },
          "metadata": {},
          "execution_count": 55
        }
      ],
      "source": [
        "df2.sample(5)"
      ]
    },
    {
      "cell_type": "code",
      "execution_count": 63,
      "metadata": {
        "scrolled": true,
        "id": "DZ13deUac0Om"
      },
      "outputs": [],
      "source": [
        "df2['MaritalStatus'].replace({'Married':1,'Single':0},inplace=True)"
      ]
    },
    {
      "cell_type": "code",
      "source": [
        "df2.sample(5)"
      ],
      "metadata": {
        "colab": {
          "base_uri": "https://localhost:8080/",
          "height": 273
        },
        "id": "VdZW3xmf2ldG",
        "outputId": "b6db142d-06b6-40df-e255-944c610608d5"
      },
      "execution_count": 66,
      "outputs": [
        {
          "output_type": "execute_result",
          "data": {
            "text/plain": [
              "      Churn  Tenure  CityTier  WarehouseToHome  Gender  HourSpendOnApp  \\\n",
              "698       0     2.0         1             16.0       1             3.0   \n",
              "3160      0     1.0         3             31.0       0             3.0   \n",
              "1943      1     0.0         1              8.0       0             2.0   \n",
              "3834      0     5.0         3              9.0       0             3.0   \n",
              "2973      0    29.0         1             27.0       0             3.0   \n",
              "\n",
              "      NumberOfDeviceRegistered  SatisfactionScore  MaritalStatus  \\\n",
              "698                          3                  4              1   \n",
              "3160                         4                  2              0   \n",
              "1943                         3                  3              0   \n",
              "3834                         4                  5              0   \n",
              "2973                         4                  2              0   \n",
              "\n",
              "      NumberOfAddress  ...  PreferedOrderCat_Laptop & Accessory  \\\n",
              "698                 1  ...                                False   \n",
              "3160                2  ...                                False   \n",
              "1943                7  ...                                False   \n",
              "3834                9  ...                                 True   \n",
              "2973                5  ...                                 True   \n",
              "\n",
              "      PreferedOrderCat_Mobile  PreferedOrderCat_Others  \\\n",
              "698                      True                    False   \n",
              "3160                     True                    False   \n",
              "1943                     True                    False   \n",
              "3834                    False                    False   \n",
              "2973                    False                    False   \n",
              "\n",
              "      PreferredPaymentMode_CC  PreferredPaymentMode_COD  \\\n",
              "698                     False                     False   \n",
              "3160                    False                     False   \n",
              "1943                    False                     False   \n",
              "3834                    False                     False   \n",
              "2973                    False                      True   \n",
              "\n",
              "      PreferredPaymentMode_Cash on Delivery  PreferredPaymentMode_Credit Card  \\\n",
              "698                                   False                             False   \n",
              "3160                                  False                              True   \n",
              "1943                                  False                              True   \n",
              "3834                                  False                             False   \n",
              "2973                                  False                             False   \n",
              "\n",
              "      PreferredPaymentMode_Debit Card  PreferredPaymentMode_E wallet  \\\n",
              "698                              True                          False   \n",
              "3160                            False                          False   \n",
              "1943                            False                          False   \n",
              "3834                            False                          False   \n",
              "2973                            False                          False   \n",
              "\n",
              "      PreferredPaymentMode_UPI  \n",
              "698                      False  \n",
              "3160                     False  \n",
              "1943                     False  \n",
              "3834                      True  \n",
              "2973                     False  \n",
              "\n",
              "[5 rows x 31 columns]"
            ],
            "text/html": [
              "\n",
              "  <div id=\"df-08f42e87-71b9-43ae-9f33-aabf7fa967e3\" class=\"colab-df-container\">\n",
              "    <div>\n",
              "<style scoped>\n",
              "    .dataframe tbody tr th:only-of-type {\n",
              "        vertical-align: middle;\n",
              "    }\n",
              "\n",
              "    .dataframe tbody tr th {\n",
              "        vertical-align: top;\n",
              "    }\n",
              "\n",
              "    .dataframe thead th {\n",
              "        text-align: right;\n",
              "    }\n",
              "</style>\n",
              "<table border=\"1\" class=\"dataframe\">\n",
              "  <thead>\n",
              "    <tr style=\"text-align: right;\">\n",
              "      <th></th>\n",
              "      <th>Churn</th>\n",
              "      <th>Tenure</th>\n",
              "      <th>CityTier</th>\n",
              "      <th>WarehouseToHome</th>\n",
              "      <th>Gender</th>\n",
              "      <th>HourSpendOnApp</th>\n",
              "      <th>NumberOfDeviceRegistered</th>\n",
              "      <th>SatisfactionScore</th>\n",
              "      <th>MaritalStatus</th>\n",
              "      <th>NumberOfAddress</th>\n",
              "      <th>...</th>\n",
              "      <th>PreferedOrderCat_Laptop &amp; Accessory</th>\n",
              "      <th>PreferedOrderCat_Mobile</th>\n",
              "      <th>PreferedOrderCat_Others</th>\n",
              "      <th>PreferredPaymentMode_CC</th>\n",
              "      <th>PreferredPaymentMode_COD</th>\n",
              "      <th>PreferredPaymentMode_Cash on Delivery</th>\n",
              "      <th>PreferredPaymentMode_Credit Card</th>\n",
              "      <th>PreferredPaymentMode_Debit Card</th>\n",
              "      <th>PreferredPaymentMode_E wallet</th>\n",
              "      <th>PreferredPaymentMode_UPI</th>\n",
              "    </tr>\n",
              "  </thead>\n",
              "  <tbody>\n",
              "    <tr>\n",
              "      <th>698</th>\n",
              "      <td>0</td>\n",
              "      <td>2.0</td>\n",
              "      <td>1</td>\n",
              "      <td>16.0</td>\n",
              "      <td>1</td>\n",
              "      <td>3.0</td>\n",
              "      <td>3</td>\n",
              "      <td>4</td>\n",
              "      <td>1</td>\n",
              "      <td>1</td>\n",
              "      <td>...</td>\n",
              "      <td>False</td>\n",
              "      <td>True</td>\n",
              "      <td>False</td>\n",
              "      <td>False</td>\n",
              "      <td>False</td>\n",
              "      <td>False</td>\n",
              "      <td>False</td>\n",
              "      <td>True</td>\n",
              "      <td>False</td>\n",
              "      <td>False</td>\n",
              "    </tr>\n",
              "    <tr>\n",
              "      <th>3160</th>\n",
              "      <td>0</td>\n",
              "      <td>1.0</td>\n",
              "      <td>3</td>\n",
              "      <td>31.0</td>\n",
              "      <td>0</td>\n",
              "      <td>3.0</td>\n",
              "      <td>4</td>\n",
              "      <td>2</td>\n",
              "      <td>0</td>\n",
              "      <td>2</td>\n",
              "      <td>...</td>\n",
              "      <td>False</td>\n",
              "      <td>True</td>\n",
              "      <td>False</td>\n",
              "      <td>False</td>\n",
              "      <td>False</td>\n",
              "      <td>False</td>\n",
              "      <td>True</td>\n",
              "      <td>False</td>\n",
              "      <td>False</td>\n",
              "      <td>False</td>\n",
              "    </tr>\n",
              "    <tr>\n",
              "      <th>1943</th>\n",
              "      <td>1</td>\n",
              "      <td>0.0</td>\n",
              "      <td>1</td>\n",
              "      <td>8.0</td>\n",
              "      <td>0</td>\n",
              "      <td>2.0</td>\n",
              "      <td>3</td>\n",
              "      <td>3</td>\n",
              "      <td>0</td>\n",
              "      <td>7</td>\n",
              "      <td>...</td>\n",
              "      <td>False</td>\n",
              "      <td>True</td>\n",
              "      <td>False</td>\n",
              "      <td>False</td>\n",
              "      <td>False</td>\n",
              "      <td>False</td>\n",
              "      <td>True</td>\n",
              "      <td>False</td>\n",
              "      <td>False</td>\n",
              "      <td>False</td>\n",
              "    </tr>\n",
              "    <tr>\n",
              "      <th>3834</th>\n",
              "      <td>0</td>\n",
              "      <td>5.0</td>\n",
              "      <td>3</td>\n",
              "      <td>9.0</td>\n",
              "      <td>0</td>\n",
              "      <td>3.0</td>\n",
              "      <td>4</td>\n",
              "      <td>5</td>\n",
              "      <td>0</td>\n",
              "      <td>9</td>\n",
              "      <td>...</td>\n",
              "      <td>True</td>\n",
              "      <td>False</td>\n",
              "      <td>False</td>\n",
              "      <td>False</td>\n",
              "      <td>False</td>\n",
              "      <td>False</td>\n",
              "      <td>False</td>\n",
              "      <td>False</td>\n",
              "      <td>False</td>\n",
              "      <td>True</td>\n",
              "    </tr>\n",
              "    <tr>\n",
              "      <th>2973</th>\n",
              "      <td>0</td>\n",
              "      <td>29.0</td>\n",
              "      <td>1</td>\n",
              "      <td>27.0</td>\n",
              "      <td>0</td>\n",
              "      <td>3.0</td>\n",
              "      <td>4</td>\n",
              "      <td>2</td>\n",
              "      <td>0</td>\n",
              "      <td>5</td>\n",
              "      <td>...</td>\n",
              "      <td>True</td>\n",
              "      <td>False</td>\n",
              "      <td>False</td>\n",
              "      <td>False</td>\n",
              "      <td>True</td>\n",
              "      <td>False</td>\n",
              "      <td>False</td>\n",
              "      <td>False</td>\n",
              "      <td>False</td>\n",
              "      <td>False</td>\n",
              "    </tr>\n",
              "  </tbody>\n",
              "</table>\n",
              "<p>5 rows × 31 columns</p>\n",
              "</div>\n",
              "    <div class=\"colab-df-buttons\">\n",
              "\n",
              "  <div class=\"colab-df-container\">\n",
              "    <button class=\"colab-df-convert\" onclick=\"convertToInteractive('df-08f42e87-71b9-43ae-9f33-aabf7fa967e3')\"\n",
              "            title=\"Convert this dataframe to an interactive table.\"\n",
              "            style=\"display:none;\">\n",
              "\n",
              "  <svg xmlns=\"http://www.w3.org/2000/svg\" height=\"24px\" viewBox=\"0 -960 960 960\">\n",
              "    <path d=\"M120-120v-720h720v720H120Zm60-500h600v-160H180v160Zm220 220h160v-160H400v160Zm0 220h160v-160H400v160ZM180-400h160v-160H180v160Zm440 0h160v-160H620v160ZM180-180h160v-160H180v160Zm440 0h160v-160H620v160Z\"/>\n",
              "  </svg>\n",
              "    </button>\n",
              "\n",
              "  <style>\n",
              "    .colab-df-container {\n",
              "      display:flex;\n",
              "      gap: 12px;\n",
              "    }\n",
              "\n",
              "    .colab-df-convert {\n",
              "      background-color: #E8F0FE;\n",
              "      border: none;\n",
              "      border-radius: 50%;\n",
              "      cursor: pointer;\n",
              "      display: none;\n",
              "      fill: #1967D2;\n",
              "      height: 32px;\n",
              "      padding: 0 0 0 0;\n",
              "      width: 32px;\n",
              "    }\n",
              "\n",
              "    .colab-df-convert:hover {\n",
              "      background-color: #E2EBFA;\n",
              "      box-shadow: 0px 1px 2px rgba(60, 64, 67, 0.3), 0px 1px 3px 1px rgba(60, 64, 67, 0.15);\n",
              "      fill: #174EA6;\n",
              "    }\n",
              "\n",
              "    .colab-df-buttons div {\n",
              "      margin-bottom: 4px;\n",
              "    }\n",
              "\n",
              "    [theme=dark] .colab-df-convert {\n",
              "      background-color: #3B4455;\n",
              "      fill: #D2E3FC;\n",
              "    }\n",
              "\n",
              "    [theme=dark] .colab-df-convert:hover {\n",
              "      background-color: #434B5C;\n",
              "      box-shadow: 0px 1px 3px 1px rgba(0, 0, 0, 0.15);\n",
              "      filter: drop-shadow(0px 1px 2px rgba(0, 0, 0, 0.3));\n",
              "      fill: #FFFFFF;\n",
              "    }\n",
              "  </style>\n",
              "\n",
              "    <script>\n",
              "      const buttonEl =\n",
              "        document.querySelector('#df-08f42e87-71b9-43ae-9f33-aabf7fa967e3 button.colab-df-convert');\n",
              "      buttonEl.style.display =\n",
              "        google.colab.kernel.accessAllowed ? 'block' : 'none';\n",
              "\n",
              "      async function convertToInteractive(key) {\n",
              "        const element = document.querySelector('#df-08f42e87-71b9-43ae-9f33-aabf7fa967e3');\n",
              "        const dataTable =\n",
              "          await google.colab.kernel.invokeFunction('convertToInteractive',\n",
              "                                                    [key], {});\n",
              "        if (!dataTable) return;\n",
              "\n",
              "        const docLinkHtml = 'Like what you see? Visit the ' +\n",
              "          '<a target=\"_blank\" href=https://colab.research.google.com/notebooks/data_table.ipynb>data table notebook</a>'\n",
              "          + ' to learn more about interactive tables.';\n",
              "        element.innerHTML = '';\n",
              "        dataTable['output_type'] = 'display_data';\n",
              "        await google.colab.output.renderOutput(dataTable, element);\n",
              "        const docLink = document.createElement('div');\n",
              "        docLink.innerHTML = docLinkHtml;\n",
              "        element.appendChild(docLink);\n",
              "      }\n",
              "    </script>\n",
              "  </div>\n",
              "\n",
              "\n",
              "<div id=\"df-984fb9ea-c3c3-4c84-a358-ab1a119f8712\">\n",
              "  <button class=\"colab-df-quickchart\" onclick=\"quickchart('df-984fb9ea-c3c3-4c84-a358-ab1a119f8712')\"\n",
              "            title=\"Suggest charts\"\n",
              "            style=\"display:none;\">\n",
              "\n",
              "<svg xmlns=\"http://www.w3.org/2000/svg\" height=\"24px\"viewBox=\"0 0 24 24\"\n",
              "     width=\"24px\">\n",
              "    <g>\n",
              "        <path d=\"M19 3H5c-1.1 0-2 .9-2 2v14c0 1.1.9 2 2 2h14c1.1 0 2-.9 2-2V5c0-1.1-.9-2-2-2zM9 17H7v-7h2v7zm4 0h-2V7h2v10zm4 0h-2v-4h2v4z\"/>\n",
              "    </g>\n",
              "</svg>\n",
              "  </button>\n",
              "\n",
              "<style>\n",
              "  .colab-df-quickchart {\n",
              "      --bg-color: #E8F0FE;\n",
              "      --fill-color: #1967D2;\n",
              "      --hover-bg-color: #E2EBFA;\n",
              "      --hover-fill-color: #174EA6;\n",
              "      --disabled-fill-color: #AAA;\n",
              "      --disabled-bg-color: #DDD;\n",
              "  }\n",
              "\n",
              "  [theme=dark] .colab-df-quickchart {\n",
              "      --bg-color: #3B4455;\n",
              "      --fill-color: #D2E3FC;\n",
              "      --hover-bg-color: #434B5C;\n",
              "      --hover-fill-color: #FFFFFF;\n",
              "      --disabled-bg-color: #3B4455;\n",
              "      --disabled-fill-color: #666;\n",
              "  }\n",
              "\n",
              "  .colab-df-quickchart {\n",
              "    background-color: var(--bg-color);\n",
              "    border: none;\n",
              "    border-radius: 50%;\n",
              "    cursor: pointer;\n",
              "    display: none;\n",
              "    fill: var(--fill-color);\n",
              "    height: 32px;\n",
              "    padding: 0;\n",
              "    width: 32px;\n",
              "  }\n",
              "\n",
              "  .colab-df-quickchart:hover {\n",
              "    background-color: var(--hover-bg-color);\n",
              "    box-shadow: 0 1px 2px rgba(60, 64, 67, 0.3), 0 1px 3px 1px rgba(60, 64, 67, 0.15);\n",
              "    fill: var(--button-hover-fill-color);\n",
              "  }\n",
              "\n",
              "  .colab-df-quickchart-complete:disabled,\n",
              "  .colab-df-quickchart-complete:disabled:hover {\n",
              "    background-color: var(--disabled-bg-color);\n",
              "    fill: var(--disabled-fill-color);\n",
              "    box-shadow: none;\n",
              "  }\n",
              "\n",
              "  .colab-df-spinner {\n",
              "    border: 2px solid var(--fill-color);\n",
              "    border-color: transparent;\n",
              "    border-bottom-color: var(--fill-color);\n",
              "    animation:\n",
              "      spin 1s steps(1) infinite;\n",
              "  }\n",
              "\n",
              "  @keyframes spin {\n",
              "    0% {\n",
              "      border-color: transparent;\n",
              "      border-bottom-color: var(--fill-color);\n",
              "      border-left-color: var(--fill-color);\n",
              "    }\n",
              "    20% {\n",
              "      border-color: transparent;\n",
              "      border-left-color: var(--fill-color);\n",
              "      border-top-color: var(--fill-color);\n",
              "    }\n",
              "    30% {\n",
              "      border-color: transparent;\n",
              "      border-left-color: var(--fill-color);\n",
              "      border-top-color: var(--fill-color);\n",
              "      border-right-color: var(--fill-color);\n",
              "    }\n",
              "    40% {\n",
              "      border-color: transparent;\n",
              "      border-right-color: var(--fill-color);\n",
              "      border-top-color: var(--fill-color);\n",
              "    }\n",
              "    60% {\n",
              "      border-color: transparent;\n",
              "      border-right-color: var(--fill-color);\n",
              "    }\n",
              "    80% {\n",
              "      border-color: transparent;\n",
              "      border-right-color: var(--fill-color);\n",
              "      border-bottom-color: var(--fill-color);\n",
              "    }\n",
              "    90% {\n",
              "      border-color: transparent;\n",
              "      border-bottom-color: var(--fill-color);\n",
              "    }\n",
              "  }\n",
              "</style>\n",
              "\n",
              "  <script>\n",
              "    async function quickchart(key) {\n",
              "      const quickchartButtonEl =\n",
              "        document.querySelector('#' + key + ' button');\n",
              "      quickchartButtonEl.disabled = true;  // To prevent multiple clicks.\n",
              "      quickchartButtonEl.classList.add('colab-df-spinner');\n",
              "      try {\n",
              "        const charts = await google.colab.kernel.invokeFunction(\n",
              "            'suggestCharts', [key], {});\n",
              "      } catch (error) {\n",
              "        console.error('Error during call to suggestCharts:', error);\n",
              "      }\n",
              "      quickchartButtonEl.classList.remove('colab-df-spinner');\n",
              "      quickchartButtonEl.classList.add('colab-df-quickchart-complete');\n",
              "    }\n",
              "    (() => {\n",
              "      let quickchartButtonEl =\n",
              "        document.querySelector('#df-984fb9ea-c3c3-4c84-a358-ab1a119f8712 button');\n",
              "      quickchartButtonEl.style.display =\n",
              "        google.colab.kernel.accessAllowed ? 'block' : 'none';\n",
              "    })();\n",
              "  </script>\n",
              "</div>\n",
              "\n",
              "    </div>\n",
              "  </div>\n"
            ],
            "application/vnd.google.colaboratory.intrinsic+json": {
              "type": "dataframe"
            }
          },
          "metadata": {},
          "execution_count": 66
        }
      ]
    },
    {
      "cell_type": "code",
      "source": [
        "df2.dtypes"
      ],
      "metadata": {
        "colab": {
          "base_uri": "https://localhost:8080/"
        },
        "id": "qXy_VP1B3ei5",
        "outputId": "2600454f-2d8b-4513-a012-eea1d3d6bb2e"
      },
      "execution_count": 67,
      "outputs": [
        {
          "output_type": "execute_result",
          "data": {
            "text/plain": [
              "Churn                                      int64\n",
              "Tenure                                   float64\n",
              "CityTier                                   int64\n",
              "WarehouseToHome                          float64\n",
              "Gender                                     int64\n",
              "HourSpendOnApp                           float64\n",
              "NumberOfDeviceRegistered                   int64\n",
              "SatisfactionScore                          int64\n",
              "MaritalStatus                              int64\n",
              "NumberOfAddress                            int64\n",
              "Complain                                   int64\n",
              "OrderAmountHikeFromlastYear              float64\n",
              "CouponUsed                               float64\n",
              "OrderCount                               float64\n",
              "DaySinceLastOrder                        float64\n",
              "CashbackAmount                             int64\n",
              "PreferredLoginDevice_Computer               bool\n",
              "PreferredLoginDevice_Mobile                 bool\n",
              "PreferredLoginDevice_Phone                  bool\n",
              "PreferedOrderCat_Fashion                    bool\n",
              "PreferedOrderCat_Grocery                    bool\n",
              "PreferedOrderCat_Laptop & Accessory         bool\n",
              "PreferedOrderCat_Mobile                     bool\n",
              "PreferedOrderCat_Others                     bool\n",
              "PreferredPaymentMode_CC                     bool\n",
              "PreferredPaymentMode_COD                    bool\n",
              "PreferredPaymentMode_Cash on Delivery       bool\n",
              "PreferredPaymentMode_Credit Card            bool\n",
              "PreferredPaymentMode_Debit Card             bool\n",
              "PreferredPaymentMode_E wallet               bool\n",
              "PreferredPaymentMode_UPI                    bool\n",
              "dtype: object"
            ]
          },
          "metadata": {},
          "execution_count": 67
        }
      ]
    },
    {
      "cell_type": "markdown",
      "source": [
        "Change the bool values to int."
      ],
      "metadata": {
        "id": "CavNyI32Khlv"
      }
    },
    {
      "cell_type": "code",
      "source": [
        "# Iterate over all columns in the DataFrame\n",
        "for col in df2.columns:\n",
        "    # Check if the column has boolean data type\n",
        "    if df2[col].dtype == bool:\n",
        "        # Convert boolean values to integers (True -> 1, False -> 0)\n",
        "        df2[col] = df2[col].astype(int)"
      ],
      "metadata": {
        "id": "-U4twmzt4Dxe"
      },
      "execution_count": 76,
      "outputs": []
    },
    {
      "cell_type": "code",
      "source": [
        "df2.dtypes\n"
      ],
      "metadata": {
        "colab": {
          "base_uri": "https://localhost:8080/"
        },
        "id": "j1Er3lc25niB",
        "outputId": "8e65a75c-a861-4f14-ffb9-fff5a8bbef14"
      },
      "execution_count": 77,
      "outputs": [
        {
          "output_type": "execute_result",
          "data": {
            "text/plain": [
              "Churn                                      int64\n",
              "Tenure                                   float64\n",
              "CityTier                                   int64\n",
              "WarehouseToHome                          float64\n",
              "Gender                                     int64\n",
              "HourSpendOnApp                           float64\n",
              "NumberOfDeviceRegistered                   int64\n",
              "SatisfactionScore                          int64\n",
              "MaritalStatus                              int64\n",
              "NumberOfAddress                            int64\n",
              "Complain                                   int64\n",
              "OrderAmountHikeFromlastYear              float64\n",
              "CouponUsed                               float64\n",
              "OrderCount                               float64\n",
              "DaySinceLastOrder                        float64\n",
              "CashbackAmount                             int64\n",
              "PreferredLoginDevice_Computer              int64\n",
              "PreferredLoginDevice_Mobile                int64\n",
              "PreferredLoginDevice_Phone                 int64\n",
              "PreferedOrderCat_Fashion                   int64\n",
              "PreferedOrderCat_Grocery                   int64\n",
              "PreferedOrderCat_Laptop & Accessory        int64\n",
              "PreferedOrderCat_Mobile                    int64\n",
              "PreferedOrderCat_Others                    int64\n",
              "PreferredPaymentMode_CC                    int64\n",
              "PreferredPaymentMode_COD                   int64\n",
              "PreferredPaymentMode_Cash on Delivery      int64\n",
              "PreferredPaymentMode_Credit Card           int64\n",
              "PreferredPaymentMode_Debit Card            int64\n",
              "PreferredPaymentMode_E wallet              int64\n",
              "PreferredPaymentMode_UPI                   int64\n",
              "dtype: object"
            ]
          },
          "metadata": {},
          "execution_count": 77
        }
      ]
    },
    {
      "cell_type": "markdown",
      "source": [
        "scaling the columns between 0 to 1 for better model using sklearn.preprocessing"
      ],
      "metadata": {
        "id": "u56kmSWsKmbn"
      }
    },
    {
      "cell_type": "code",
      "execution_count": 81,
      "metadata": {
        "id": "yoZ55Dvzc0On"
      },
      "outputs": [],
      "source": [
        "cols_to_scale = ['Tenure', 'CityTier','WarehouseToHome','HourSpendOnApp','NumberOfDeviceRegistered','SatisfactionScore','NumberOfAddress','OrderAmountHikeFromlastYear','CouponUsed','OrderCount','DaySinceLastOrder','CashbackAmount']\n",
        "\n",
        "from sklearn.preprocessing import MinMaxScaler\n",
        "scaler = MinMaxScaler()\n",
        "scaler = MinMaxScaler()\n",
        "df2[cols_to_scale] = scaler.fit_transform(df2[cols_to_scale])"
      ]
    },
    {
      "cell_type": "code",
      "execution_count": 82,
      "metadata": {
        "colab": {
          "base_uri": "https://localhost:8080/"
        },
        "id": "ewBJ5As_c0Op",
        "outputId": "e434e43e-1b09-46c1-a1d7-9adcf26b3881"
      },
      "outputs": [
        {
          "output_type": "stream",
          "name": "stdout",
          "text": [
            "Churn: [1 0]\n",
            "Tenure: [0.06557377        nan 0.         0.21311475 0.18032787 0.14754098\n",
            " 0.31147541 0.32786885 0.2295082  0.13114754 0.29508197 0.08196721\n",
            " 0.03278689 0.49180328 0.01639344 0.37704918 0.04918033 0.47540984\n",
            " 0.09836066 0.42622951 0.45901639 0.1147541  0.39344262 0.40983607\n",
            " 0.16393443 0.24590164 0.36065574 0.44262295 0.26229508 0.19672131\n",
            " 0.3442623  0.27868852 0.81967213 0.98360656 0.50819672 0.83606557\n",
            " 1.        ]\n",
            "CityTier: [1.  0.  0.5]\n",
            "WarehouseToHome: [0.00819672 0.02459016 0.20491803 0.08196721 0.05737705 0.13934426\n",
            " 0.04918033 0.03278689 0.21311475 0.10655738 0.06557377 0.12295082\n",
            " 0.19672131 0.18852459 0.17213115 0.07377049        nan 0.04098361\n",
            " 0.18032787 0.09836066 0.14754098 0.2295082  0.1147541  0.24590164\n",
            " 0.1557377  0.09016393 0.16393443 0.22131148 0.23770492 0.\n",
            " 0.13114754 0.99180328 0.01639344 0.25409836 1.        ]\n",
            "Gender: [1 0]\n",
            "HourSpendOnApp: [0.6 0.4 nan 0.2 0.  0.8 1. ]\n",
            "NumberOfDeviceRegistered: [0.4 0.6 0.8 0.2 0.  1. ]\n",
            "SatisfactionScore: [0.25 0.5  1.   0.75 0.  ]\n",
            "MaritalStatus: [0 1]\n",
            "NumberOfAddress: [0.38095238 0.28571429 0.23809524 0.33333333 0.0952381  0.04761905\n",
            " 0.14285714 0.42857143 0.         0.19047619 0.85714286 0.95238095\n",
            " 0.47619048 0.9047619  1.        ]\n",
            "Complain: [1 0]\n",
            "OrderAmountHikeFromlastYear: [0.         0.26666667 0.2        0.8        0.73333333 0.33333333\n",
            " 0.06666667        nan 0.13333333 0.4        0.46666667 0.86666667\n",
            " 0.53333333 0.6        0.66666667 0.93333333 1.        ]\n",
            "CouponUsed: [0.0625 0.     0.25   0.125  0.5625 0.375  0.6875    nan 0.4375 0.75\n",
            " 0.625  0.3125 0.1875 0.8125 0.9375 0.5    0.875  1.    ]\n",
            "OrderCount: [0.         0.33333333 0.06666667 0.93333333 0.2        0.4\n",
            " 0.13333333 0.53333333        nan 0.66666667 0.26666667 0.73333333\n",
            " 0.6        0.46666667 0.8        0.86666667 1.        ]\n",
            "DaySinceLastOrder: [0.10869565 0.         0.06521739 0.15217391 0.04347826 0.02173913\n",
            " 0.17391304 0.13043478 0.08695652 0.32608696 0.19565217 0.23913043\n",
            " 0.2173913         nan 0.2826087  0.26086957 0.36956522 0.34782609\n",
            " 0.30434783 0.65217391 1.         0.39130435 0.67391304]\n",
            "CashbackAmount: [0.49230769 0.37230769 0.36923077 0.41230769 0.4        0.42769231\n",
            " 0.37846154 0.39076923 0.90769231 0.47384615 0.60307692 0.39692308\n",
            " 0.48307692 0.49538462 0.46153846 0.49846154 0.62461538 0.36\n",
            " 0.44923077 0.63692308 0.43692308 0.53230769 0.58461538 0.44\n",
            " 0.40923077 0.64307692 0.37538462 0.59692308 0.38769231 0.92\n",
            " 0.38461538 0.57538462 0.40307692 0.34153846 0.63076923 0.42153846\n",
            " 0.44615385 0.39384615 0.89230769 0.88307692 0.6        0.72923077\n",
            " 0.92307692 0.48923077 0.82461538 0.41846154 0.44307692 0.47076923\n",
            " 0.51076923 0.50153846 0.51692308 0.42461538 0.51384615 0.54153846\n",
            " 0.45846154 0.62769231 0.56923077 0.61538462 0.69230769 0.72615385\n",
            " 0.58153846 0.68307692 0.63384615 0.         0.55076923 0.57846154\n",
            " 0.38153846 0.40615385 0.89846154 0.80307692 0.89538462 0.50461538\n",
            " 0.50769231 0.52       0.90461538 0.41538462 0.46769231 0.82769231\n",
            " 0.48       0.43076923 0.72307692 0.67076923 0.67692308 0.84923077\n",
            " 0.45230769 0.48615385 0.35076923 0.55384615 0.47692308 0.8\n",
            " 0.34461538 0.68       0.45538462 0.67384615 0.83384615 0.73846154\n",
            " 0.53846154 0.46461538 0.90153846 0.87076923 0.66153846 0.52615385\n",
            " 0.56307692 0.55692308 0.60615385 0.82153846 0.74769231 0.71384615\n",
            " 0.56615385 0.81846154 0.91076923 0.86153846 0.74153846 0.83076923\n",
            " 0.85846154 0.58769231 0.60923077 0.43384615 0.53538462 0.80615385\n",
            " 0.66461538 0.36615385 0.86769231 0.78153846 0.54461538 0.33846154\n",
            " 0.34769231 0.57230769 0.65230769 0.76307692 0.66769231 0.73230769\n",
            " 0.64923077 0.87384615 0.35692308 0.83692308 0.70153846 0.62153846\n",
            " 0.80923077 0.64       0.76615385 0.54769231 0.84307692 0.65846154\n",
            " 0.64615385 0.69846154 0.91692308 0.71692308 0.85230769 0.72\n",
            " 0.84615385 0.71076923 0.56       0.88       0.85538462 0.91384615\n",
            " 0.88615385 0.86461538 0.61230769 0.84       0.76       0.59384615\n",
            " 0.81230769 0.59076923 0.61846154 0.75076923 0.77538462 0.52307692\n",
            " 0.70461538 0.70769231 0.79384615 0.35384615 0.03692308 0.36307692\n",
            " 0.88923077 0.73538462 0.17230769 0.98461538 0.99692308 0.96923077\n",
            " 0.96       1.         0.76923077 0.07692308 0.65538462 0.97538462\n",
            " 0.97230769 0.98153846 0.75384615 0.92615385 0.52923077 0.87692308\n",
            " 0.75692308 0.81538462 0.97846154 0.94769231 0.79076923 0.98769231\n",
            " 0.93846154 0.93538462 0.68615385 0.94461538 0.74461538 0.95076923\n",
            " 0.77846154 0.99384615 0.92923077 0.79692308 0.78769231 0.95692308\n",
            " 0.93230769 0.99076923 0.96307692 0.94153846 0.68923077 0.69538462\n",
            " 0.78461538 0.11384615 0.96615385 0.24923077]\n",
            "PreferredLoginDevice_Computer: [0 1]\n",
            "PreferredLoginDevice_Mobile: [1 0]\n",
            "PreferredLoginDevice_Phone: [0 1]\n",
            "PreferedOrderCat_Fashion: [0 1]\n",
            "PreferedOrderCat_Grocery: [0 1]\n",
            "PreferedOrderCat_Laptop & Accessory: [1 0]\n",
            "PreferedOrderCat_Mobile: [0 1]\n",
            "PreferedOrderCat_Others: [0 1]\n",
            "PreferredPaymentMode_CC: [0 1]\n",
            "PreferredPaymentMode_COD: [0 1]\n",
            "PreferredPaymentMode_Cash on Delivery: [0 1]\n",
            "PreferredPaymentMode_Credit Card: [0 1]\n",
            "PreferredPaymentMode_Debit Card: [1 0]\n",
            "PreferredPaymentMode_E wallet: [0 1]\n",
            "PreferredPaymentMode_UPI: [0 1]\n"
          ]
        }
      ],
      "source": [
        "for col in df2:\n",
        "    print(f'{col}: {df2[col].unique()}')"
      ]
    },
    {
      "cell_type": "markdown",
      "source": [
        "dropping nan values in df2 columns"
      ],
      "metadata": {
        "id": "I3X4Ktw9K0gB"
      }
    },
    {
      "cell_type": "code",
      "source": [
        "df2 = df2.dropna()"
      ],
      "metadata": {
        "id": "CE9BCd_r9YHL"
      },
      "execution_count": 83,
      "outputs": []
    },
    {
      "cell_type": "code",
      "source": [
        "for col in df2:\n",
        "    print(f'{col}: {df2[col].unique()}')"
      ],
      "metadata": {
        "colab": {
          "base_uri": "https://localhost:8080/"
        },
        "id": "JwgQdZgl9ay-",
        "outputId": "1127e047-17d6-4adf-d43a-53d8530cd32c"
      },
      "execution_count": 84,
      "outputs": [
        {
          "output_type": "stream",
          "name": "stdout",
          "text": [
            "Churn: [1 0]\n",
            "Tenure: [0.06557377 0.         0.18032787 0.14754098 0.31147541 0.32786885\n",
            " 0.2295082  0.13114754 0.08196721 0.03278689 0.49180328 0.21311475\n",
            " 0.04918033 0.29508197 0.47540984 0.37704918 0.42622951 0.1147541\n",
            " 0.16393443 0.24590164 0.36065574 0.01639344 0.44262295 0.40983607\n",
            " 0.45901639 0.39344262 0.19672131 0.09836066 0.26229508 0.3442623\n",
            " 0.27868852 0.81967213 0.50819672 0.83606557]\n",
            "CityTier: [1.  0.  0.5]\n",
            "WarehouseToHome: [0.00819672 0.08196721 0.13934426 0.04918033 0.06557377 0.12295082\n",
            " 0.05737705 0.19672131 0.17213115 0.07377049 0.04098361 0.20491803\n",
            " 0.02459016 0.10655738 0.1147541  0.18032787 0.24590164 0.1557377\n",
            " 0.09016393 0.2295082  0.22131148 0.03278689 0.14754098 0.09836066\n",
            " 0.23770492 0.21311475 0.18852459 0.16393443 0.13114754 0.\n",
            " 0.99180328 0.01639344 0.25409836 1.        ]\n",
            "Gender: [1 0]\n",
            "HourSpendOnApp: [0.6 0.4 0.2 0.8 0.  1. ]\n",
            "NumberOfDeviceRegistered: [0.4 0.6 0.8 0.2 0.  1. ]\n",
            "SatisfactionScore: [0.25 1.   0.5  0.75 0.  ]\n",
            "MaritalStatus: [0 1]\n",
            "NumberOfAddress: [0.38095238 0.33333333 0.04761905 0.42857143 0.         0.19047619\n",
            " 0.14285714 0.0952381  0.23809524 0.28571429 0.95238095 0.47619048\n",
            " 0.9047619  1.        ]\n",
            "Complain: [1 0]\n",
            "OrderAmountHikeFromlastYear: [0.         0.8        0.73333333 0.13333333 0.4        0.33333333\n",
            " 0.86666667 0.46666667 0.06666667 0.26666667 0.2        0.6\n",
            " 0.93333333 0.53333333 0.66666667 1.        ]\n",
            "CouponUsed: [0.0625 0.     0.25   0.125  0.375  0.6875 0.4375 0.75   0.1875 0.3125\n",
            " 0.5625 0.8125 0.5    0.625  1.    ]\n",
            "OrderCount: [0.         0.33333333 0.06666667 0.2        0.4        0.93333333\n",
            " 0.13333333 0.53333333 0.26666667 0.73333333 0.6        0.66666667\n",
            " 0.46666667 0.8        0.86666667 1.        ]\n",
            "DaySinceLastOrder: [0.10869565 0.06521739 0.15217391 0.         0.04347826 0.13043478\n",
            " 0.08695652 0.19565217 0.23913043 0.02173913 0.17391304 0.2826087\n",
            " 0.2173913  0.26086957 0.32608696 0.36956522 0.30434783 0.65217391\n",
            " 1.         0.34782609 0.39130435 0.67391304]\n",
            "CashbackAmount: [0.49230769 0.41230769 0.42769231 0.47384615 0.60307692 0.48307692\n",
            " 0.49538462 0.46153846 0.49846154 0.62461538 0.44923077 0.63692308\n",
            " 0.43692308 0.53230769 0.58461538 0.44       0.40923077 0.64307692\n",
            " 0.59692308 0.57538462 0.34153846 0.63076923 0.42153846 0.44615385\n",
            " 0.6        0.48923077 0.41846154 0.44307692 0.47076923 0.51076923\n",
            " 0.50153846 0.51692308 0.42461538 0.51384615 0.54153846 0.45846154\n",
            " 0.62769231 0.56923077 0.61538462 0.58153846 0.63384615 0.\n",
            " 0.55076923 0.57846154 0.40615385 0.50461538 0.50769231 0.52\n",
            " 0.41538462 0.46769231 0.48       0.43076923 0.45230769 0.48615385\n",
            " 0.55384615 0.47692308 0.34461538 0.45538462 0.53846154 0.46461538\n",
            " 0.52615385 0.56307692 0.55692308 0.60615385 0.89846154 0.56615385\n",
            " 0.58769231 0.60923077 0.43384615 0.53538462 0.39076923 0.54461538\n",
            " 0.33846154 0.57230769 0.62153846 0.64       0.37846154 0.54769231\n",
            " 0.56       0.61230769 0.59384615 0.59076923 0.61846154 0.52307692\n",
            " 0.03692308 0.17230769 0.71076923 0.71384615 0.99692308 1.\n",
            " 0.80307692 0.07692308 0.52923077 0.99384615 0.11384615 0.24923077]\n",
            "PreferredLoginDevice_Computer: [0 1]\n",
            "PreferredLoginDevice_Mobile: [1 0]\n",
            "PreferredLoginDevice_Phone: [0 1]\n",
            "PreferedOrderCat_Fashion: [0 1]\n",
            "PreferedOrderCat_Grocery: [0 1]\n",
            "PreferedOrderCat_Laptop & Accessory: [1 0]\n",
            "PreferedOrderCat_Mobile: [0 1]\n",
            "PreferedOrderCat_Others: [0 1]\n",
            "PreferredPaymentMode_CC: [0 1]\n",
            "PreferredPaymentMode_COD: [0 1]\n",
            "PreferredPaymentMode_Cash on Delivery: [0 1]\n",
            "PreferredPaymentMode_Credit Card: [0 1]\n",
            "PreferredPaymentMode_Debit Card: [1 0]\n",
            "PreferredPaymentMode_E wallet: [0 1]\n",
            "PreferredPaymentMode_UPI: [0 1]\n"
          ]
        }
      ]
    },
    {
      "cell_type": "markdown",
      "metadata": {
        "id": "_fj5Uj_wc0Oq"
      },
      "source": [
        "**Train test split**"
      ]
    },
    {
      "cell_type": "code",
      "execution_count": 85,
      "metadata": {
        "id": "Mn_DUPvEc0Or"
      },
      "outputs": [],
      "source": [
        "X = df2.drop('Churn',axis='columns')\n",
        "y = df2['Churn']\n",
        "\n",
        "from sklearn.model_selection import train_test_split\n",
        "X_train, X_test, y_train, y_test = train_test_split(X,y,test_size=0.2,random_state=5)"
      ]
    },
    {
      "cell_type": "code",
      "execution_count": 86,
      "metadata": {
        "colab": {
          "base_uri": "https://localhost:8080/"
        },
        "id": "8XPlNu91c0Ot",
        "outputId": "0b2fb32a-34fe-4aa9-be8f-074b93480b3f"
      },
      "outputs": [
        {
          "output_type": "execute_result",
          "data": {
            "text/plain": [
              "(3019, 30)"
            ]
          },
          "metadata": {},
          "execution_count": 86
        }
      ],
      "source": [
        "X_train.shape"
      ]
    },
    {
      "cell_type": "code",
      "execution_count": 87,
      "metadata": {
        "scrolled": true,
        "colab": {
          "base_uri": "https://localhost:8080/"
        },
        "id": "zId8UjPic0Ov",
        "outputId": "2a28ed93-1bfb-4d35-8eb0-6ed82cd9435e"
      },
      "outputs": [
        {
          "output_type": "execute_result",
          "data": {
            "text/plain": [
              "(755, 30)"
            ]
          },
          "metadata": {},
          "execution_count": 87
        }
      ],
      "source": [
        "X_test.shape"
      ]
    },
    {
      "cell_type": "code",
      "execution_count": 88,
      "metadata": {
        "colab": {
          "base_uri": "https://localhost:8080/",
          "height": 430
        },
        "id": "sdD2jmCGc0Ow",
        "outputId": "46c6dbc9-6710-43fc-875c-013abc01b2fe"
      },
      "outputs": [
        {
          "output_type": "execute_result",
          "data": {
            "text/plain": [
              "        Tenure  CityTier  WarehouseToHome  Gender  HourSpendOnApp  \\\n",
              "4689  0.196721       0.0         0.016393       1             0.6   \n",
              "5386  0.098361       0.0         0.098361       0             0.6   \n",
              "3485  0.180328       1.0         0.098361       1             0.6   \n",
              "3262  0.049180       0.0         0.237705       1             0.8   \n",
              "2922  0.508197       0.5         0.065574       0             0.6   \n",
              "4864  0.147541       1.0         0.040984       0             0.8   \n",
              "3092  0.065574       1.0         0.114754       1             0.6   \n",
              "5257  0.016393       0.0         0.188525       0             0.6   \n",
              "2372  0.114754       0.0         0.016393       1             0.4   \n",
              "3041  0.098361       0.0         0.032787       1             0.8   \n",
              "\n",
              "      NumberOfDeviceRegistered  SatisfactionScore  MaritalStatus  \\\n",
              "4689                       0.2               0.00              0   \n",
              "5386                       0.6               0.50              1   \n",
              "3485                       0.8               0.25              1   \n",
              "3262                       0.6               0.50              0   \n",
              "2922                       0.6               0.50              0   \n",
              "4864                       0.6               0.00              1   \n",
              "3092                       0.6               0.50              0   \n",
              "5257                       0.8               1.00              1   \n",
              "2372                       0.6               0.75              1   \n",
              "3041                       0.6               0.75              0   \n",
              "\n",
              "      NumberOfAddress  Complain  ...  PreferedOrderCat_Laptop & Accessory  \\\n",
              "4689         0.047619         0  ...                                    1   \n",
              "5386         0.333333         0  ...                                    0   \n",
              "3485         0.142857         1  ...                                    1   \n",
              "3262         0.238095         0  ...                                    1   \n",
              "2922         0.428571         0  ...                                    0   \n",
              "4864         0.333333         0  ...                                    0   \n",
              "3092         0.047619         0  ...                                    1   \n",
              "5257         0.047619         0  ...                                    0   \n",
              "2372         0.238095         0  ...                                    0   \n",
              "3041         0.095238         0  ...                                    0   \n",
              "\n",
              "      PreferedOrderCat_Mobile  PreferedOrderCat_Others  \\\n",
              "4689                        0                        0   \n",
              "5386                        1                        0   \n",
              "3485                        0                        0   \n",
              "3262                        0                        0   \n",
              "2922                        1                        0   \n",
              "4864                        0                        0   \n",
              "3092                        0                        0   \n",
              "5257                        1                        0   \n",
              "2372                        1                        0   \n",
              "3041                        1                        0   \n",
              "\n",
              "      PreferredPaymentMode_CC  PreferredPaymentMode_COD  \\\n",
              "4689                        0                         0   \n",
              "5386                        0                         0   \n",
              "3485                        0                         0   \n",
              "3262                        0                         0   \n",
              "2922                        0                         0   \n",
              "4864                        0                         0   \n",
              "3092                        0                         1   \n",
              "5257                        0                         1   \n",
              "2372                        0                         0   \n",
              "3041                        0                         0   \n",
              "\n",
              "      PreferredPaymentMode_Cash on Delivery  PreferredPaymentMode_Credit Card  \\\n",
              "4689                                      0                                 0   \n",
              "5386                                      0                                 0   \n",
              "3485                                      0                                 0   \n",
              "3262                                      0                                 1   \n",
              "2922                                      0                                 1   \n",
              "4864                                      0                                 0   \n",
              "3092                                      0                                 0   \n",
              "5257                                      0                                 0   \n",
              "2372                                      0                                 0   \n",
              "3041                                      0                                 1   \n",
              "\n",
              "      PreferredPaymentMode_Debit Card  PreferredPaymentMode_E wallet  \\\n",
              "4689                                1                              0   \n",
              "5386                                1                              0   \n",
              "3485                                1                              0   \n",
              "3262                                0                              0   \n",
              "2922                                0                              0   \n",
              "4864                                1                              0   \n",
              "3092                                0                              0   \n",
              "5257                                0                              0   \n",
              "2372                                1                              0   \n",
              "3041                                0                              0   \n",
              "\n",
              "      PreferredPaymentMode_UPI  \n",
              "4689                         0  \n",
              "5386                         0  \n",
              "3485                         0  \n",
              "3262                         0  \n",
              "2922                         0  \n",
              "4864                         0  \n",
              "3092                         0  \n",
              "5257                         0  \n",
              "2372                         0  \n",
              "3041                         0  \n",
              "\n",
              "[10 rows x 30 columns]"
            ],
            "text/html": [
              "\n",
              "  <div id=\"df-3d64ffef-61ea-4b96-bcd8-620ad848dfbf\" class=\"colab-df-container\">\n",
              "    <div>\n",
              "<style scoped>\n",
              "    .dataframe tbody tr th:only-of-type {\n",
              "        vertical-align: middle;\n",
              "    }\n",
              "\n",
              "    .dataframe tbody tr th {\n",
              "        vertical-align: top;\n",
              "    }\n",
              "\n",
              "    .dataframe thead th {\n",
              "        text-align: right;\n",
              "    }\n",
              "</style>\n",
              "<table border=\"1\" class=\"dataframe\">\n",
              "  <thead>\n",
              "    <tr style=\"text-align: right;\">\n",
              "      <th></th>\n",
              "      <th>Tenure</th>\n",
              "      <th>CityTier</th>\n",
              "      <th>WarehouseToHome</th>\n",
              "      <th>Gender</th>\n",
              "      <th>HourSpendOnApp</th>\n",
              "      <th>NumberOfDeviceRegistered</th>\n",
              "      <th>SatisfactionScore</th>\n",
              "      <th>MaritalStatus</th>\n",
              "      <th>NumberOfAddress</th>\n",
              "      <th>Complain</th>\n",
              "      <th>...</th>\n",
              "      <th>PreferedOrderCat_Laptop &amp; Accessory</th>\n",
              "      <th>PreferedOrderCat_Mobile</th>\n",
              "      <th>PreferedOrderCat_Others</th>\n",
              "      <th>PreferredPaymentMode_CC</th>\n",
              "      <th>PreferredPaymentMode_COD</th>\n",
              "      <th>PreferredPaymentMode_Cash on Delivery</th>\n",
              "      <th>PreferredPaymentMode_Credit Card</th>\n",
              "      <th>PreferredPaymentMode_Debit Card</th>\n",
              "      <th>PreferredPaymentMode_E wallet</th>\n",
              "      <th>PreferredPaymentMode_UPI</th>\n",
              "    </tr>\n",
              "  </thead>\n",
              "  <tbody>\n",
              "    <tr>\n",
              "      <th>4689</th>\n",
              "      <td>0.196721</td>\n",
              "      <td>0.0</td>\n",
              "      <td>0.016393</td>\n",
              "      <td>1</td>\n",
              "      <td>0.6</td>\n",
              "      <td>0.2</td>\n",
              "      <td>0.00</td>\n",
              "      <td>0</td>\n",
              "      <td>0.047619</td>\n",
              "      <td>0</td>\n",
              "      <td>...</td>\n",
              "      <td>1</td>\n",
              "      <td>0</td>\n",
              "      <td>0</td>\n",
              "      <td>0</td>\n",
              "      <td>0</td>\n",
              "      <td>0</td>\n",
              "      <td>0</td>\n",
              "      <td>1</td>\n",
              "      <td>0</td>\n",
              "      <td>0</td>\n",
              "    </tr>\n",
              "    <tr>\n",
              "      <th>5386</th>\n",
              "      <td>0.098361</td>\n",
              "      <td>0.0</td>\n",
              "      <td>0.098361</td>\n",
              "      <td>0</td>\n",
              "      <td>0.6</td>\n",
              "      <td>0.6</td>\n",
              "      <td>0.50</td>\n",
              "      <td>1</td>\n",
              "      <td>0.333333</td>\n",
              "      <td>0</td>\n",
              "      <td>...</td>\n",
              "      <td>0</td>\n",
              "      <td>1</td>\n",
              "      <td>0</td>\n",
              "      <td>0</td>\n",
              "      <td>0</td>\n",
              "      <td>0</td>\n",
              "      <td>0</td>\n",
              "      <td>1</td>\n",
              "      <td>0</td>\n",
              "      <td>0</td>\n",
              "    </tr>\n",
              "    <tr>\n",
              "      <th>3485</th>\n",
              "      <td>0.180328</td>\n",
              "      <td>1.0</td>\n",
              "      <td>0.098361</td>\n",
              "      <td>1</td>\n",
              "      <td>0.6</td>\n",
              "      <td>0.8</td>\n",
              "      <td>0.25</td>\n",
              "      <td>1</td>\n",
              "      <td>0.142857</td>\n",
              "      <td>1</td>\n",
              "      <td>...</td>\n",
              "      <td>1</td>\n",
              "      <td>0</td>\n",
              "      <td>0</td>\n",
              "      <td>0</td>\n",
              "      <td>0</td>\n",
              "      <td>0</td>\n",
              "      <td>0</td>\n",
              "      <td>1</td>\n",
              "      <td>0</td>\n",
              "      <td>0</td>\n",
              "    </tr>\n",
              "    <tr>\n",
              "      <th>3262</th>\n",
              "      <td>0.049180</td>\n",
              "      <td>0.0</td>\n",
              "      <td>0.237705</td>\n",
              "      <td>1</td>\n",
              "      <td>0.8</td>\n",
              "      <td>0.6</td>\n",
              "      <td>0.50</td>\n",
              "      <td>0</td>\n",
              "      <td>0.238095</td>\n",
              "      <td>0</td>\n",
              "      <td>...</td>\n",
              "      <td>1</td>\n",
              "      <td>0</td>\n",
              "      <td>0</td>\n",
              "      <td>0</td>\n",
              "      <td>0</td>\n",
              "      <td>0</td>\n",
              "      <td>1</td>\n",
              "      <td>0</td>\n",
              "      <td>0</td>\n",
              "      <td>0</td>\n",
              "    </tr>\n",
              "    <tr>\n",
              "      <th>2922</th>\n",
              "      <td>0.508197</td>\n",
              "      <td>0.5</td>\n",
              "      <td>0.065574</td>\n",
              "      <td>0</td>\n",
              "      <td>0.6</td>\n",
              "      <td>0.6</td>\n",
              "      <td>0.50</td>\n",
              "      <td>0</td>\n",
              "      <td>0.428571</td>\n",
              "      <td>0</td>\n",
              "      <td>...</td>\n",
              "      <td>0</td>\n",
              "      <td>1</td>\n",
              "      <td>0</td>\n",
              "      <td>0</td>\n",
              "      <td>0</td>\n",
              "      <td>0</td>\n",
              "      <td>1</td>\n",
              "      <td>0</td>\n",
              "      <td>0</td>\n",
              "      <td>0</td>\n",
              "    </tr>\n",
              "    <tr>\n",
              "      <th>4864</th>\n",
              "      <td>0.147541</td>\n",
              "      <td>1.0</td>\n",
              "      <td>0.040984</td>\n",
              "      <td>0</td>\n",
              "      <td>0.8</td>\n",
              "      <td>0.6</td>\n",
              "      <td>0.00</td>\n",
              "      <td>1</td>\n",
              "      <td>0.333333</td>\n",
              "      <td>0</td>\n",
              "      <td>...</td>\n",
              "      <td>0</td>\n",
              "      <td>0</td>\n",
              "      <td>0</td>\n",
              "      <td>0</td>\n",
              "      <td>0</td>\n",
              "      <td>0</td>\n",
              "      <td>0</td>\n",
              "      <td>1</td>\n",
              "      <td>0</td>\n",
              "      <td>0</td>\n",
              "    </tr>\n",
              "    <tr>\n",
              "      <th>3092</th>\n",
              "      <td>0.065574</td>\n",
              "      <td>1.0</td>\n",
              "      <td>0.114754</td>\n",
              "      <td>1</td>\n",
              "      <td>0.6</td>\n",
              "      <td>0.6</td>\n",
              "      <td>0.50</td>\n",
              "      <td>0</td>\n",
              "      <td>0.047619</td>\n",
              "      <td>0</td>\n",
              "      <td>...</td>\n",
              "      <td>1</td>\n",
              "      <td>0</td>\n",
              "      <td>0</td>\n",
              "      <td>0</td>\n",
              "      <td>1</td>\n",
              "      <td>0</td>\n",
              "      <td>0</td>\n",
              "      <td>0</td>\n",
              "      <td>0</td>\n",
              "      <td>0</td>\n",
              "    </tr>\n",
              "    <tr>\n",
              "      <th>5257</th>\n",
              "      <td>0.016393</td>\n",
              "      <td>0.0</td>\n",
              "      <td>0.188525</td>\n",
              "      <td>0</td>\n",
              "      <td>0.6</td>\n",
              "      <td>0.8</td>\n",
              "      <td>1.00</td>\n",
              "      <td>1</td>\n",
              "      <td>0.047619</td>\n",
              "      <td>0</td>\n",
              "      <td>...</td>\n",
              "      <td>0</td>\n",
              "      <td>1</td>\n",
              "      <td>0</td>\n",
              "      <td>0</td>\n",
              "      <td>1</td>\n",
              "      <td>0</td>\n",
              "      <td>0</td>\n",
              "      <td>0</td>\n",
              "      <td>0</td>\n",
              "      <td>0</td>\n",
              "    </tr>\n",
              "    <tr>\n",
              "      <th>2372</th>\n",
              "      <td>0.114754</td>\n",
              "      <td>0.0</td>\n",
              "      <td>0.016393</td>\n",
              "      <td>1</td>\n",
              "      <td>0.4</td>\n",
              "      <td>0.6</td>\n",
              "      <td>0.75</td>\n",
              "      <td>1</td>\n",
              "      <td>0.238095</td>\n",
              "      <td>0</td>\n",
              "      <td>...</td>\n",
              "      <td>0</td>\n",
              "      <td>1</td>\n",
              "      <td>0</td>\n",
              "      <td>0</td>\n",
              "      <td>0</td>\n",
              "      <td>0</td>\n",
              "      <td>0</td>\n",
              "      <td>1</td>\n",
              "      <td>0</td>\n",
              "      <td>0</td>\n",
              "    </tr>\n",
              "    <tr>\n",
              "      <th>3041</th>\n",
              "      <td>0.098361</td>\n",
              "      <td>0.0</td>\n",
              "      <td>0.032787</td>\n",
              "      <td>1</td>\n",
              "      <td>0.8</td>\n",
              "      <td>0.6</td>\n",
              "      <td>0.75</td>\n",
              "      <td>0</td>\n",
              "      <td>0.095238</td>\n",
              "      <td>0</td>\n",
              "      <td>...</td>\n",
              "      <td>0</td>\n",
              "      <td>1</td>\n",
              "      <td>0</td>\n",
              "      <td>0</td>\n",
              "      <td>0</td>\n",
              "      <td>0</td>\n",
              "      <td>1</td>\n",
              "      <td>0</td>\n",
              "      <td>0</td>\n",
              "      <td>0</td>\n",
              "    </tr>\n",
              "  </tbody>\n",
              "</table>\n",
              "<p>10 rows × 30 columns</p>\n",
              "</div>\n",
              "    <div class=\"colab-df-buttons\">\n",
              "\n",
              "  <div class=\"colab-df-container\">\n",
              "    <button class=\"colab-df-convert\" onclick=\"convertToInteractive('df-3d64ffef-61ea-4b96-bcd8-620ad848dfbf')\"\n",
              "            title=\"Convert this dataframe to an interactive table.\"\n",
              "            style=\"display:none;\">\n",
              "\n",
              "  <svg xmlns=\"http://www.w3.org/2000/svg\" height=\"24px\" viewBox=\"0 -960 960 960\">\n",
              "    <path d=\"M120-120v-720h720v720H120Zm60-500h600v-160H180v160Zm220 220h160v-160H400v160Zm0 220h160v-160H400v160ZM180-400h160v-160H180v160Zm440 0h160v-160H620v160ZM180-180h160v-160H180v160Zm440 0h160v-160H620v160Z\"/>\n",
              "  </svg>\n",
              "    </button>\n",
              "\n",
              "  <style>\n",
              "    .colab-df-container {\n",
              "      display:flex;\n",
              "      gap: 12px;\n",
              "    }\n",
              "\n",
              "    .colab-df-convert {\n",
              "      background-color: #E8F0FE;\n",
              "      border: none;\n",
              "      border-radius: 50%;\n",
              "      cursor: pointer;\n",
              "      display: none;\n",
              "      fill: #1967D2;\n",
              "      height: 32px;\n",
              "      padding: 0 0 0 0;\n",
              "      width: 32px;\n",
              "    }\n",
              "\n",
              "    .colab-df-convert:hover {\n",
              "      background-color: #E2EBFA;\n",
              "      box-shadow: 0px 1px 2px rgba(60, 64, 67, 0.3), 0px 1px 3px 1px rgba(60, 64, 67, 0.15);\n",
              "      fill: #174EA6;\n",
              "    }\n",
              "\n",
              "    .colab-df-buttons div {\n",
              "      margin-bottom: 4px;\n",
              "    }\n",
              "\n",
              "    [theme=dark] .colab-df-convert {\n",
              "      background-color: #3B4455;\n",
              "      fill: #D2E3FC;\n",
              "    }\n",
              "\n",
              "    [theme=dark] .colab-df-convert:hover {\n",
              "      background-color: #434B5C;\n",
              "      box-shadow: 0px 1px 3px 1px rgba(0, 0, 0, 0.15);\n",
              "      filter: drop-shadow(0px 1px 2px rgba(0, 0, 0, 0.3));\n",
              "      fill: #FFFFFF;\n",
              "    }\n",
              "  </style>\n",
              "\n",
              "    <script>\n",
              "      const buttonEl =\n",
              "        document.querySelector('#df-3d64ffef-61ea-4b96-bcd8-620ad848dfbf button.colab-df-convert');\n",
              "      buttonEl.style.display =\n",
              "        google.colab.kernel.accessAllowed ? 'block' : 'none';\n",
              "\n",
              "      async function convertToInteractive(key) {\n",
              "        const element = document.querySelector('#df-3d64ffef-61ea-4b96-bcd8-620ad848dfbf');\n",
              "        const dataTable =\n",
              "          await google.colab.kernel.invokeFunction('convertToInteractive',\n",
              "                                                    [key], {});\n",
              "        if (!dataTable) return;\n",
              "\n",
              "        const docLinkHtml = 'Like what you see? Visit the ' +\n",
              "          '<a target=\"_blank\" href=https://colab.research.google.com/notebooks/data_table.ipynb>data table notebook</a>'\n",
              "          + ' to learn more about interactive tables.';\n",
              "        element.innerHTML = '';\n",
              "        dataTable['output_type'] = 'display_data';\n",
              "        await google.colab.output.renderOutput(dataTable, element);\n",
              "        const docLink = document.createElement('div');\n",
              "        docLink.innerHTML = docLinkHtml;\n",
              "        element.appendChild(docLink);\n",
              "      }\n",
              "    </script>\n",
              "  </div>\n",
              "\n",
              "\n",
              "<div id=\"df-d8c287ac-d404-4b50-b88c-8ef92003f0f1\">\n",
              "  <button class=\"colab-df-quickchart\" onclick=\"quickchart('df-d8c287ac-d404-4b50-b88c-8ef92003f0f1')\"\n",
              "            title=\"Suggest charts\"\n",
              "            style=\"display:none;\">\n",
              "\n",
              "<svg xmlns=\"http://www.w3.org/2000/svg\" height=\"24px\"viewBox=\"0 0 24 24\"\n",
              "     width=\"24px\">\n",
              "    <g>\n",
              "        <path d=\"M19 3H5c-1.1 0-2 .9-2 2v14c0 1.1.9 2 2 2h14c1.1 0 2-.9 2-2V5c0-1.1-.9-2-2-2zM9 17H7v-7h2v7zm4 0h-2V7h2v10zm4 0h-2v-4h2v4z\"/>\n",
              "    </g>\n",
              "</svg>\n",
              "  </button>\n",
              "\n",
              "<style>\n",
              "  .colab-df-quickchart {\n",
              "      --bg-color: #E8F0FE;\n",
              "      --fill-color: #1967D2;\n",
              "      --hover-bg-color: #E2EBFA;\n",
              "      --hover-fill-color: #174EA6;\n",
              "      --disabled-fill-color: #AAA;\n",
              "      --disabled-bg-color: #DDD;\n",
              "  }\n",
              "\n",
              "  [theme=dark] .colab-df-quickchart {\n",
              "      --bg-color: #3B4455;\n",
              "      --fill-color: #D2E3FC;\n",
              "      --hover-bg-color: #434B5C;\n",
              "      --hover-fill-color: #FFFFFF;\n",
              "      --disabled-bg-color: #3B4455;\n",
              "      --disabled-fill-color: #666;\n",
              "  }\n",
              "\n",
              "  .colab-df-quickchart {\n",
              "    background-color: var(--bg-color);\n",
              "    border: none;\n",
              "    border-radius: 50%;\n",
              "    cursor: pointer;\n",
              "    display: none;\n",
              "    fill: var(--fill-color);\n",
              "    height: 32px;\n",
              "    padding: 0;\n",
              "    width: 32px;\n",
              "  }\n",
              "\n",
              "  .colab-df-quickchart:hover {\n",
              "    background-color: var(--hover-bg-color);\n",
              "    box-shadow: 0 1px 2px rgba(60, 64, 67, 0.3), 0 1px 3px 1px rgba(60, 64, 67, 0.15);\n",
              "    fill: var(--button-hover-fill-color);\n",
              "  }\n",
              "\n",
              "  .colab-df-quickchart-complete:disabled,\n",
              "  .colab-df-quickchart-complete:disabled:hover {\n",
              "    background-color: var(--disabled-bg-color);\n",
              "    fill: var(--disabled-fill-color);\n",
              "    box-shadow: none;\n",
              "  }\n",
              "\n",
              "  .colab-df-spinner {\n",
              "    border: 2px solid var(--fill-color);\n",
              "    border-color: transparent;\n",
              "    border-bottom-color: var(--fill-color);\n",
              "    animation:\n",
              "      spin 1s steps(1) infinite;\n",
              "  }\n",
              "\n",
              "  @keyframes spin {\n",
              "    0% {\n",
              "      border-color: transparent;\n",
              "      border-bottom-color: var(--fill-color);\n",
              "      border-left-color: var(--fill-color);\n",
              "    }\n",
              "    20% {\n",
              "      border-color: transparent;\n",
              "      border-left-color: var(--fill-color);\n",
              "      border-top-color: var(--fill-color);\n",
              "    }\n",
              "    30% {\n",
              "      border-color: transparent;\n",
              "      border-left-color: var(--fill-color);\n",
              "      border-top-color: var(--fill-color);\n",
              "      border-right-color: var(--fill-color);\n",
              "    }\n",
              "    40% {\n",
              "      border-color: transparent;\n",
              "      border-right-color: var(--fill-color);\n",
              "      border-top-color: var(--fill-color);\n",
              "    }\n",
              "    60% {\n",
              "      border-color: transparent;\n",
              "      border-right-color: var(--fill-color);\n",
              "    }\n",
              "    80% {\n",
              "      border-color: transparent;\n",
              "      border-right-color: var(--fill-color);\n",
              "      border-bottom-color: var(--fill-color);\n",
              "    }\n",
              "    90% {\n",
              "      border-color: transparent;\n",
              "      border-bottom-color: var(--fill-color);\n",
              "    }\n",
              "  }\n",
              "</style>\n",
              "\n",
              "  <script>\n",
              "    async function quickchart(key) {\n",
              "      const quickchartButtonEl =\n",
              "        document.querySelector('#' + key + ' button');\n",
              "      quickchartButtonEl.disabled = true;  // To prevent multiple clicks.\n",
              "      quickchartButtonEl.classList.add('colab-df-spinner');\n",
              "      try {\n",
              "        const charts = await google.colab.kernel.invokeFunction(\n",
              "            'suggestCharts', [key], {});\n",
              "      } catch (error) {\n",
              "        console.error('Error during call to suggestCharts:', error);\n",
              "      }\n",
              "      quickchartButtonEl.classList.remove('colab-df-spinner');\n",
              "      quickchartButtonEl.classList.add('colab-df-quickchart-complete');\n",
              "    }\n",
              "    (() => {\n",
              "      let quickchartButtonEl =\n",
              "        document.querySelector('#df-d8c287ac-d404-4b50-b88c-8ef92003f0f1 button');\n",
              "      quickchartButtonEl.style.display =\n",
              "        google.colab.kernel.accessAllowed ? 'block' : 'none';\n",
              "    })();\n",
              "  </script>\n",
              "</div>\n",
              "\n",
              "    </div>\n",
              "  </div>\n"
            ],
            "application/vnd.google.colaboratory.intrinsic+json": {
              "type": "dataframe"
            }
          },
          "metadata": {},
          "execution_count": 88
        }
      ],
      "source": [
        "X_train[:10]"
      ]
    },
    {
      "cell_type": "code",
      "execution_count": 89,
      "metadata": {
        "colab": {
          "base_uri": "https://localhost:8080/"
        },
        "id": "E48Mw8M_c0Ox",
        "outputId": "22ac95b5-ecff-46e9-e235-9999d623c689"
      },
      "outputs": [
        {
          "output_type": "execute_result",
          "data": {
            "text/plain": [
              "30"
            ]
          },
          "metadata": {},
          "execution_count": 89
        }
      ],
      "source": [
        "len(X_train.columns)"
      ]
    },
    {
      "cell_type": "markdown",
      "metadata": {
        "id": "cyVIx_ZUc0Oz"
      },
      "source": [
        "**Build a model (ANN) in tensorflow/keras**"
      ]
    },
    {
      "cell_type": "code",
      "execution_count": 95,
      "metadata": {
        "scrolled": false,
        "colab": {
          "base_uri": "https://localhost:8080/"
        },
        "id": "lCo3blOXc0Oz",
        "outputId": "7d6b1d6c-ca72-4794-94b1-bc272d334140"
      },
      "outputs": [
        {
          "output_type": "stream",
          "name": "stdout",
          "text": [
            "Epoch 1/100\n",
            "95/95 [==============================] - 2s 4ms/step - loss: 0.4698 - accuracy: 0.8344\n",
            "Epoch 2/100\n",
            "95/95 [==============================] - 0s 3ms/step - loss: 0.3876 - accuracy: 0.8344\n",
            "Epoch 3/100\n",
            "95/95 [==============================] - 0s 5ms/step - loss: 0.3506 - accuracy: 0.8486\n",
            "Epoch 4/100\n",
            "95/95 [==============================] - 1s 6ms/step - loss: 0.3325 - accuracy: 0.8652\n",
            "Epoch 5/100\n",
            "95/95 [==============================] - 0s 5ms/step - loss: 0.3117 - accuracy: 0.8738\n",
            "Epoch 6/100\n",
            "95/95 [==============================] - 0s 5ms/step - loss: 0.2951 - accuracy: 0.8791\n",
            "Epoch 7/100\n",
            "95/95 [==============================] - 1s 5ms/step - loss: 0.2827 - accuracy: 0.8867\n",
            "Epoch 8/100\n",
            "95/95 [==============================] - 0s 4ms/step - loss: 0.2722 - accuracy: 0.8933\n",
            "Epoch 9/100\n",
            "95/95 [==============================] - 1s 6ms/step - loss: 0.2622 - accuracy: 0.9013\n",
            "Epoch 10/100\n",
            "95/95 [==============================] - 1s 7ms/step - loss: 0.2566 - accuracy: 0.8990\n",
            "Epoch 11/100\n",
            "95/95 [==============================] - 0s 4ms/step - loss: 0.2490 - accuracy: 0.9086\n",
            "Epoch 12/100\n",
            "95/95 [==============================] - 0s 3ms/step - loss: 0.2438 - accuracy: 0.9099\n",
            "Epoch 13/100\n",
            "95/95 [==============================] - 0s 4ms/step - loss: 0.2370 - accuracy: 0.9099\n",
            "Epoch 14/100\n",
            "95/95 [==============================] - 0s 4ms/step - loss: 0.2354 - accuracy: 0.9073\n",
            "Epoch 15/100\n",
            "95/95 [==============================] - 0s 4ms/step - loss: 0.2294 - accuracy: 0.9132\n",
            "Epoch 16/100\n",
            "95/95 [==============================] - 0s 3ms/step - loss: 0.2272 - accuracy: 0.9096\n",
            "Epoch 17/100\n",
            "95/95 [==============================] - 1s 8ms/step - loss: 0.2219 - accuracy: 0.9182\n",
            "Epoch 18/100\n",
            "95/95 [==============================] - 0s 5ms/step - loss: 0.2164 - accuracy: 0.9149\n",
            "Epoch 19/100\n",
            "95/95 [==============================] - 0s 2ms/step - loss: 0.2166 - accuracy: 0.9149\n",
            "Epoch 20/100\n",
            "95/95 [==============================] - 0s 2ms/step - loss: 0.2081 - accuracy: 0.9195\n",
            "Epoch 21/100\n",
            "95/95 [==============================] - 0s 2ms/step - loss: 0.2033 - accuracy: 0.9175\n",
            "Epoch 22/100\n",
            "95/95 [==============================] - 0s 2ms/step - loss: 0.1992 - accuracy: 0.9238\n",
            "Epoch 23/100\n",
            "95/95 [==============================] - 0s 2ms/step - loss: 0.1999 - accuracy: 0.9208\n",
            "Epoch 24/100\n",
            "95/95 [==============================] - 0s 2ms/step - loss: 0.1941 - accuracy: 0.9228\n",
            "Epoch 25/100\n",
            "95/95 [==============================] - 0s 2ms/step - loss: 0.1919 - accuracy: 0.9265\n",
            "Epoch 26/100\n",
            "95/95 [==============================] - 0s 2ms/step - loss: 0.1878 - accuracy: 0.9294\n",
            "Epoch 27/100\n",
            "95/95 [==============================] - 0s 2ms/step - loss: 0.1844 - accuracy: 0.9278\n",
            "Epoch 28/100\n",
            "95/95 [==============================] - 0s 2ms/step - loss: 0.1813 - accuracy: 0.9278\n",
            "Epoch 29/100\n",
            "95/95 [==============================] - 0s 2ms/step - loss: 0.1807 - accuracy: 0.9271\n",
            "Epoch 30/100\n",
            "95/95 [==============================] - 0s 2ms/step - loss: 0.1771 - accuracy: 0.9291\n",
            "Epoch 31/100\n",
            "95/95 [==============================] - 0s 2ms/step - loss: 0.1727 - accuracy: 0.9334\n",
            "Epoch 32/100\n",
            "95/95 [==============================] - 0s 2ms/step - loss: 0.1704 - accuracy: 0.9334\n",
            "Epoch 33/100\n",
            "95/95 [==============================] - 0s 2ms/step - loss: 0.1648 - accuracy: 0.9361\n",
            "Epoch 34/100\n",
            "95/95 [==============================] - 0s 2ms/step - loss: 0.1676 - accuracy: 0.9324\n",
            "Epoch 35/100\n",
            "95/95 [==============================] - 0s 2ms/step - loss: 0.1647 - accuracy: 0.9298\n",
            "Epoch 36/100\n",
            "95/95 [==============================] - 0s 3ms/step - loss: 0.1604 - accuracy: 0.9328\n",
            "Epoch 37/100\n",
            "95/95 [==============================] - 0s 3ms/step - loss: 0.1613 - accuracy: 0.9391\n",
            "Epoch 38/100\n",
            "95/95 [==============================] - 0s 3ms/step - loss: 0.1549 - accuracy: 0.9377\n",
            "Epoch 39/100\n",
            "95/95 [==============================] - 0s 3ms/step - loss: 0.1574 - accuracy: 0.9357\n",
            "Epoch 40/100\n",
            "95/95 [==============================] - 0s 3ms/step - loss: 0.1512 - accuracy: 0.9410\n",
            "Epoch 41/100\n",
            "95/95 [==============================] - 0s 4ms/step - loss: 0.1530 - accuracy: 0.9384\n",
            "Epoch 42/100\n",
            "95/95 [==============================] - 0s 3ms/step - loss: 0.1518 - accuracy: 0.9387\n",
            "Epoch 43/100\n",
            "95/95 [==============================] - 0s 3ms/step - loss: 0.1455 - accuracy: 0.9417\n",
            "Epoch 44/100\n",
            "95/95 [==============================] - 0s 3ms/step - loss: 0.1413 - accuracy: 0.9417\n",
            "Epoch 45/100\n",
            "95/95 [==============================] - 0s 3ms/step - loss: 0.1469 - accuracy: 0.9417\n",
            "Epoch 46/100\n",
            "95/95 [==============================] - 0s 3ms/step - loss: 0.1405 - accuracy: 0.9437\n",
            "Epoch 47/100\n",
            "95/95 [==============================] - 0s 3ms/step - loss: 0.1368 - accuracy: 0.9470\n",
            "Epoch 48/100\n",
            "95/95 [==============================] - 0s 4ms/step - loss: 0.1369 - accuracy: 0.9473\n",
            "Epoch 49/100\n",
            "95/95 [==============================] - 0s 4ms/step - loss: 0.1352 - accuracy: 0.9457\n",
            "Epoch 50/100\n",
            "95/95 [==============================] - 0s 4ms/step - loss: 0.1313 - accuracy: 0.9483\n",
            "Epoch 51/100\n",
            "95/95 [==============================] - 0s 3ms/step - loss: 0.1295 - accuracy: 0.9493\n",
            "Epoch 52/100\n",
            "95/95 [==============================] - 0s 3ms/step - loss: 0.1339 - accuracy: 0.9460\n",
            "Epoch 53/100\n",
            "95/95 [==============================] - 0s 3ms/step - loss: 0.1279 - accuracy: 0.9457\n",
            "Epoch 54/100\n",
            "95/95 [==============================] - 0s 3ms/step - loss: 0.1261 - accuracy: 0.9540\n",
            "Epoch 55/100\n",
            "95/95 [==============================] - 0s 3ms/step - loss: 0.1267 - accuracy: 0.9477\n",
            "Epoch 56/100\n",
            "95/95 [==============================] - 0s 3ms/step - loss: 0.1259 - accuracy: 0.9523\n",
            "Epoch 57/100\n",
            "95/95 [==============================] - 0s 3ms/step - loss: 0.1244 - accuracy: 0.9500\n",
            "Epoch 58/100\n",
            "95/95 [==============================] - 0s 3ms/step - loss: 0.1231 - accuracy: 0.9526\n",
            "Epoch 59/100\n",
            "95/95 [==============================] - 0s 3ms/step - loss: 0.1195 - accuracy: 0.9540\n",
            "Epoch 60/100\n",
            "95/95 [==============================] - 0s 3ms/step - loss: 0.1187 - accuracy: 0.9543\n",
            "Epoch 61/100\n",
            "95/95 [==============================] - 0s 2ms/step - loss: 0.1164 - accuracy: 0.9520\n",
            "Epoch 62/100\n",
            "95/95 [==============================] - 0s 2ms/step - loss: 0.1145 - accuracy: 0.9550\n",
            "Epoch 63/100\n",
            "95/95 [==============================] - 0s 2ms/step - loss: 0.1128 - accuracy: 0.9550\n",
            "Epoch 64/100\n",
            "95/95 [==============================] - 0s 2ms/step - loss: 0.1171 - accuracy: 0.9516\n",
            "Epoch 65/100\n",
            "95/95 [==============================] - 0s 2ms/step - loss: 0.1095 - accuracy: 0.9569\n",
            "Epoch 66/100\n",
            "95/95 [==============================] - 0s 2ms/step - loss: 0.1047 - accuracy: 0.9606\n",
            "Epoch 67/100\n",
            "95/95 [==============================] - 0s 2ms/step - loss: 0.1082 - accuracy: 0.9546\n",
            "Epoch 68/100\n",
            "95/95 [==============================] - 0s 2ms/step - loss: 0.1076 - accuracy: 0.9603\n",
            "Epoch 69/100\n",
            "95/95 [==============================] - 0s 2ms/step - loss: 0.1042 - accuracy: 0.9616\n",
            "Epoch 70/100\n",
            "95/95 [==============================] - 0s 2ms/step - loss: 0.1053 - accuracy: 0.9573\n",
            "Epoch 71/100\n",
            "95/95 [==============================] - 0s 2ms/step - loss: 0.1069 - accuracy: 0.9569\n",
            "Epoch 72/100\n",
            "95/95 [==============================] - 0s 2ms/step - loss: 0.0974 - accuracy: 0.9642\n",
            "Epoch 73/100\n",
            "95/95 [==============================] - 0s 2ms/step - loss: 0.0965 - accuracy: 0.9636\n",
            "Epoch 74/100\n",
            "95/95 [==============================] - 0s 2ms/step - loss: 0.0987 - accuracy: 0.9656\n",
            "Epoch 75/100\n",
            "95/95 [==============================] - 0s 2ms/step - loss: 0.0968 - accuracy: 0.9622\n",
            "Epoch 76/100\n",
            "95/95 [==============================] - 0s 2ms/step - loss: 0.0974 - accuracy: 0.9646\n",
            "Epoch 77/100\n",
            "95/95 [==============================] - 0s 2ms/step - loss: 0.0926 - accuracy: 0.9649\n",
            "Epoch 78/100\n",
            "95/95 [==============================] - 0s 2ms/step - loss: 0.0915 - accuracy: 0.9652\n",
            "Epoch 79/100\n",
            "95/95 [==============================] - 0s 2ms/step - loss: 0.0904 - accuracy: 0.9682\n",
            "Epoch 80/100\n",
            "95/95 [==============================] - 0s 2ms/step - loss: 0.0902 - accuracy: 0.9669\n",
            "Epoch 81/100\n",
            "95/95 [==============================] - 0s 2ms/step - loss: 0.0870 - accuracy: 0.9672\n",
            "Epoch 82/100\n",
            "95/95 [==============================] - 0s 2ms/step - loss: 0.0843 - accuracy: 0.9709\n",
            "Epoch 83/100\n",
            "95/95 [==============================] - 0s 2ms/step - loss: 0.0847 - accuracy: 0.9679\n",
            "Epoch 84/100\n",
            "95/95 [==============================] - 0s 2ms/step - loss: 0.0800 - accuracy: 0.9718\n",
            "Epoch 85/100\n",
            "95/95 [==============================] - 0s 2ms/step - loss: 0.0799 - accuracy: 0.9728\n",
            "Epoch 86/100\n",
            "95/95 [==============================] - 0s 2ms/step - loss: 0.0801 - accuracy: 0.9715\n",
            "Epoch 87/100\n",
            "95/95 [==============================] - 0s 2ms/step - loss: 0.0790 - accuracy: 0.9712\n",
            "Epoch 88/100\n",
            "95/95 [==============================] - 0s 2ms/step - loss: 0.0770 - accuracy: 0.9715\n",
            "Epoch 89/100\n",
            "95/95 [==============================] - 0s 2ms/step - loss: 0.0785 - accuracy: 0.9712\n",
            "Epoch 90/100\n",
            "95/95 [==============================] - 0s 2ms/step - loss: 0.0787 - accuracy: 0.9718\n",
            "Epoch 91/100\n",
            "95/95 [==============================] - 0s 2ms/step - loss: 0.0748 - accuracy: 0.9728\n",
            "Epoch 92/100\n",
            "95/95 [==============================] - 0s 2ms/step - loss: 0.0776 - accuracy: 0.9725\n",
            "Epoch 93/100\n",
            "95/95 [==============================] - 0s 2ms/step - loss: 0.0751 - accuracy: 0.9718\n",
            "Epoch 94/100\n",
            "95/95 [==============================] - 0s 2ms/step - loss: 0.0742 - accuracy: 0.9755\n",
            "Epoch 95/100\n",
            "95/95 [==============================] - 0s 2ms/step - loss: 0.0681 - accuracy: 0.9762\n",
            "Epoch 96/100\n",
            "95/95 [==============================] - 0s 2ms/step - loss: 0.0780 - accuracy: 0.9689\n",
            "Epoch 97/100\n",
            "95/95 [==============================] - 0s 2ms/step - loss: 0.0693 - accuracy: 0.9775\n",
            "Epoch 98/100\n",
            "95/95 [==============================] - 0s 2ms/step - loss: 0.0692 - accuracy: 0.9755\n",
            "Epoch 99/100\n",
            "95/95 [==============================] - 0s 2ms/step - loss: 0.0669 - accuracy: 0.9755\n",
            "Epoch 100/100\n",
            "95/95 [==============================] - 0s 2ms/step - loss: 0.0685 - accuracy: 0.9771\n"
          ]
        },
        {
          "output_type": "execute_result",
          "data": {
            "text/plain": [
              "<keras.src.callbacks.History at 0x7a8d97acfc70>"
            ]
          },
          "metadata": {},
          "execution_count": 95
        }
      ],
      "source": [
        "import tensorflow as tf\n",
        "from tensorflow import keras\n",
        "\n",
        "\n",
        "model = keras.Sequential([\n",
        "    keras.layers.Dense(25, input_shape=(30,), activation='relu'),\n",
        "    keras.layers.Dense(20, activation='relu'),\n",
        "    keras.layers.Dense(15, activation='relu'),\n",
        "    keras.layers.Dense(1, activation='sigmoid')\n",
        "])\n",
        "\n",
        "# opt = keras.optimizers.Adam(learning_rate=0.01)\n",
        "\n",
        "model.compile(optimizer='adam',\n",
        "              loss='binary_crossentropy',\n",
        "              metrics=['accuracy'])\n",
        "\n",
        "model.fit(X_train, y_train, epochs=100)"
      ]
    },
    {
      "cell_type": "code",
      "execution_count": 96,
      "metadata": {
        "scrolled": true,
        "colab": {
          "base_uri": "https://localhost:8080/"
        },
        "id": "IT4Z9BG6c0O1",
        "outputId": "2e4bb99e-4620-4c9c-da36-f37ca6ae8696"
      },
      "outputs": [
        {
          "output_type": "stream",
          "name": "stdout",
          "text": [
            "24/24 [==============================] - 0s 2ms/step - loss: 0.2114 - accuracy: 0.9311\n"
          ]
        },
        {
          "output_type": "execute_result",
          "data": {
            "text/plain": [
              "[0.21142444014549255, 0.931125819683075]"
            ]
          },
          "metadata": {},
          "execution_count": 96
        }
      ],
      "source": [
        "model.evaluate(X_test, y_test)"
      ]
    },
    {
      "cell_type": "code",
      "execution_count": 97,
      "metadata": {
        "colab": {
          "base_uri": "https://localhost:8080/"
        },
        "id": "13xwAT3ic0O2",
        "outputId": "02ab85ae-0fd9-4c4f-cf11-7a3ae2f87c89"
      },
      "outputs": [
        {
          "output_type": "stream",
          "name": "stdout",
          "text": [
            "24/24 [==============================] - 0s 2ms/step\n"
          ]
        },
        {
          "output_type": "execute_result",
          "data": {
            "text/plain": [
              "array([[4.7883233e-05],\n",
              "       [1.6447474e-01],\n",
              "       [2.7116343e-02],\n",
              "       [1.8218383e-01],\n",
              "       [1.2489178e-10]], dtype=float32)"
            ]
          },
          "metadata": {},
          "execution_count": 97
        }
      ],
      "source": [
        "yp = model.predict(X_test)\n",
        "yp[:5]"
      ]
    },
    {
      "cell_type": "code",
      "execution_count": 98,
      "metadata": {
        "id": "vYRUsZaHc0O3"
      },
      "outputs": [],
      "source": [
        "y_pred = []\n",
        "for element in yp:\n",
        "    if element > 0.5:\n",
        "        y_pred.append(1)\n",
        "    else:\n",
        "        y_pred.append(0)"
      ]
    },
    {
      "cell_type": "code",
      "execution_count": 99,
      "metadata": {
        "colab": {
          "base_uri": "https://localhost:8080/"
        },
        "id": "7XXsh9_Rc0O4",
        "outputId": "f71b8393-dab2-4367-a68c-1b13490eb410"
      },
      "outputs": [
        {
          "output_type": "execute_result",
          "data": {
            "text/plain": [
              "[0, 0, 0, 0, 0, 0, 0, 0, 0, 0]"
            ]
          },
          "metadata": {},
          "execution_count": 99
        }
      ],
      "source": [
        "y_pred[:10]"
      ]
    },
    {
      "cell_type": "code",
      "execution_count": 100,
      "metadata": {
        "colab": {
          "base_uri": "https://localhost:8080/"
        },
        "id": "yJnXfUZBc0O6",
        "outputId": "423dc57b-8277-4b8d-a63d-7a9bf897aa57"
      },
      "outputs": [
        {
          "output_type": "execute_result",
          "data": {
            "text/plain": [
              "4586    0\n",
              "3999    0\n",
              "3062    0\n",
              "4639    1\n",
              "2313    0\n",
              "1665    0\n",
              "1162    0\n",
              "3650    0\n",
              "3219    0\n",
              "5095    0\n",
              "Name: Churn, dtype: int64"
            ]
          },
          "metadata": {},
          "execution_count": 100
        }
      ],
      "source": [
        "y_test[:10]"
      ]
    },
    {
      "cell_type": "code",
      "execution_count": 101,
      "metadata": {
        "colab": {
          "base_uri": "https://localhost:8080/"
        },
        "id": "tIGTWu_4c0O7",
        "outputId": "413ee282-c00a-4282-ef9e-04d91dee2fb5"
      },
      "outputs": [
        {
          "output_type": "stream",
          "name": "stdout",
          "text": [
            "              precision    recall  f1-score   support\n",
            "\n",
            "           0       0.95      0.97      0.96       624\n",
            "           1       0.83      0.76      0.79       131\n",
            "\n",
            "    accuracy                           0.93       755\n",
            "   macro avg       0.89      0.86      0.88       755\n",
            "weighted avg       0.93      0.93      0.93       755\n",
            "\n"
          ]
        }
      ],
      "source": [
        "from sklearn.metrics import confusion_matrix , classification_report\n",
        "\n",
        "print(classification_report(y_test,y_pred))"
      ]
    },
    {
      "cell_type": "code",
      "execution_count": 102,
      "metadata": {
        "scrolled": false,
        "colab": {
          "base_uri": "https://localhost:8080/",
          "height": 638
        },
        "id": "sRlBKsHfc0O8",
        "outputId": "cd883977-3af6-4402-feb5-b87ccdf19e84"
      },
      "outputs": [
        {
          "output_type": "execute_result",
          "data": {
            "text/plain": [
              "Text(95.72222222222221, 0.5, 'Truth')"
            ]
          },
          "metadata": {},
          "execution_count": 102
        },
        {
          "output_type": "display_data",
          "data": {
            "text/plain": [
              "<Figure size 1000x700 with 2 Axes>"
            ],
            "image/png": "[encoded data removed]"
          },
          "metadata": {}
        }
      ],
      "source": [
        "import seaborn as sn\n",
        "cm = tf.math.confusion_matrix(labels=y_test,predictions=y_pred)\n",
        "\n",
        "plt.figure(figsize = (10,7))\n",
        "sn.heatmap(cm, annot=True, fmt='d')\n",
        "plt.xlabel('Predicted')\n",
        "plt.ylabel('Truth')"
      ]
    },
    {
      "cell_type": "code",
      "execution_count": 103,
      "metadata": {
        "colab": {
          "base_uri": "https://localhost:8080/"
        },
        "id": "qsSLMv8rc0O-",
        "outputId": "cd3d2e57-c3a8-4728-d92e-045e245bea50"
      },
      "outputs": [
        {
          "output_type": "execute_result",
          "data": {
            "text/plain": [
              "(755,)"
            ]
          },
          "metadata": {},
          "execution_count": 103
        }
      ],
      "source": [
        "y_test.shape"
      ]
    },
    {
      "cell_type": "markdown",
      "metadata": {
        "id": "YFoXDi5Gc0O_"
      },
      "source": [
        "**Accuracy**"
      ]
    },
    {
      "cell_type": "code",
      "execution_count": 104,
      "metadata": {
        "scrolled": true,
        "colab": {
          "base_uri": "https://localhost:8080/"
        },
        "id": "ZoBs6RGyc0PA",
        "outputId": "139f3746-731e-4168-8d0c-df910b30903d"
      },
      "outputs": [
        {
          "output_type": "execute_result",
          "data": {
            "text/plain": [
              "0.93"
            ]
          },
          "metadata": {},
          "execution_count": 104
        }
      ],
      "source": [
        "round((603+100)/(603+100+31+21),2)"
      ]
    },
    {
      "cell_type": "markdown",
      "metadata": {
        "id": "WvmwSUbqc0PB"
      },
      "source": [
        "**Precision for 0 class. i.e. Precision for customers who did not churn**"
      ]
    },
    {
      "cell_type": "code",
      "execution_count": 106,
      "metadata": {
        "scrolled": true,
        "colab": {
          "base_uri": "https://localhost:8080/"
        },
        "id": "Ggx17l2fc0PC",
        "outputId": "cf0c6f4f-e25f-4206-c3a4-2a2b327f7694"
      },
      "outputs": [
        {
          "output_type": "execute_result",
          "data": {
            "text/plain": [
              "0.95"
            ]
          },
          "metadata": {},
          "execution_count": 106
        }
      ],
      "source": [
        "round(603/(603+31),2)"
      ]
    },
    {
      "cell_type": "markdown",
      "metadata": {
        "id": "3RmThA4Kc0PD"
      },
      "source": [
        "**Precision for 1 class. i.e. Precision for customers who actually churned**"
      ]
    },
    {
      "cell_type": "code",
      "execution_count": 107,
      "metadata": {
        "scrolled": true,
        "colab": {
          "base_uri": "https://localhost:8080/"
        },
        "id": "3dYqM2hHc0PI",
        "outputId": "655ea88e-c0d2-4bee-b711-f8b97064c95f"
      },
      "outputs": [
        {
          "output_type": "execute_result",
          "data": {
            "text/plain": [
              "0.83"
            ]
          },
          "metadata": {},
          "execution_count": 107
        }
      ],
      "source": [
        "round(100/(100+21),2)"
      ]
    },
    {
      "cell_type": "markdown",
      "metadata": {
        "id": "FhT5fAOcc0PK"
      },
      "source": [
        "**Recall for 0 class**"
      ]
    },
    {
      "cell_type": "code",
      "execution_count": 108,
      "metadata": {
        "colab": {
          "base_uri": "https://localhost:8080/"
        },
        "id": "YGjosFCBc0PM",
        "outputId": "3a477269-5eb1-439b-e64e-53ca42f90155"
      },
      "outputs": [
        {
          "output_type": "execute_result",
          "data": {
            "text/plain": [
              "0.97"
            ]
          },
          "metadata": {},
          "execution_count": 108
        }
      ],
      "source": [
        "round(603/(603+21),2)"
      ]
    },
    {
      "cell_type": "code",
      "execution_count": 109,
      "metadata": {
        "scrolled": true,
        "colab": {
          "base_uri": "https://localhost:8080/"
        },
        "id": "95y03IeZc0PN",
        "outputId": "8d504fcb-32aa-4a5c-9a86-47e07658c0ec"
      },
      "outputs": [
        {
          "output_type": "execute_result",
          "data": {
            "text/plain": [
              "0.76"
            ]
          },
          "metadata": {},
          "execution_count": 109
        }
      ],
      "source": [
        "round(100/(100+31),2)"
      ]
    },
    {
      "cell_type": "markdown",
      "metadata": {
        "id": "SEgL_1Oic0PT"
      },
      "source": []
    },
    {
      "cell_type": "code",
      "execution_count": null,
      "metadata": {
        "id": "RJOBmanQc0PU"
      },
      "outputs": [],
      "source": []
    }
  ],
  "metadata": {
    "kernelspec": {
      "display_name": "Python 3",
      "language": "python",
      "name": "python3"
    },
    "language_info": {
      "codemirror_mode": {
        "name": "ipython",
        "version": 3
      },
      "file_extension": ".py",
      "mimetype": "text/x-python",
      "name": "python",
      "nbconvert_exporter": "python",
      "pygments_lexer": "ipython3",
      "version": "3.8.5"
    },
    "colab": {
      "provenance": []
    }
  },
  "nbformat": 4,
  "nbformat_minor": 0
}
